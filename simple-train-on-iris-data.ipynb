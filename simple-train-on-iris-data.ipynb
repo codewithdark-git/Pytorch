{
 "cells": [
  {
   "cell_type": "code",
   "execution_count": 1,
   "id": "0f2384b1",
   "metadata": {
    "execution": {
     "iopub.execute_input": "2024-12-17T08:07:47.147469Z",
     "iopub.status.busy": "2024-12-17T08:07:47.147201Z",
     "iopub.status.idle": "2024-12-17T08:07:48.880632Z",
     "shell.execute_reply": "2024-12-17T08:07:48.879757Z"
    },
    "papermill": {
     "duration": 1.742134,
     "end_time": "2024-12-17T08:07:48.882761",
     "exception": false,
     "start_time": "2024-12-17T08:07:47.140627",
     "status": "completed"
    },
    "tags": []
   },
   "outputs": [],
   "source": [
    "import numpy as np\n",
    "import pandas as pd\n",
    "from sklearn.datasets import load_breast_cancer\n"
   ]
  },
  {
   "cell_type": "code",
   "execution_count": 2,
   "id": "149d4299",
   "metadata": {
    "execution": {
     "iopub.execute_input": "2024-12-17T08:07:48.895215Z",
     "iopub.status.busy": "2024-12-17T08:07:48.894842Z",
     "iopub.status.idle": "2024-12-17T08:07:48.908198Z",
     "shell.execute_reply": "2024-12-17T08:07:48.907404Z"
    },
    "papermill": {
     "duration": 0.020536,
     "end_time": "2024-12-17T08:07:48.909797",
     "exception": false,
     "start_time": "2024-12-17T08:07:48.889261",
     "status": "completed"
    },
    "tags": []
   },
   "outputs": [],
   "source": [
    "dataset = load_breast_cancer()\n",
    "X = dataset.data\n",
    "y = dataset.target"
   ]
  },
  {
   "cell_type": "code",
   "execution_count": 3,
   "id": "c5e50f3e",
   "metadata": {
    "execution": {
     "iopub.execute_input": "2024-12-17T08:07:48.920649Z",
     "iopub.status.busy": "2024-12-17T08:07:48.920057Z",
     "iopub.status.idle": "2024-12-17T08:07:48.925532Z",
     "shell.execute_reply": "2024-12-17T08:07:48.924755Z"
    },
    "papermill": {
     "duration": 0.012337,
     "end_time": "2024-12-17T08:07:48.926988",
     "exception": false,
     "start_time": "2024-12-17T08:07:48.914651",
     "status": "completed"
    },
    "tags": []
   },
   "outputs": [
    {
     "data": {
      "text/plain": [
       "(569, 30)"
      ]
     },
     "execution_count": 3,
     "metadata": {},
     "output_type": "execute_result"
    }
   ],
   "source": [
    "X.shape"
   ]
  },
  {
   "cell_type": "code",
   "execution_count": 4,
   "id": "b19577bc",
   "metadata": {
    "execution": {
     "iopub.execute_input": "2024-12-17T08:07:48.937774Z",
     "iopub.status.busy": "2024-12-17T08:07:48.937497Z",
     "iopub.status.idle": "2024-12-17T08:07:48.942158Z",
     "shell.execute_reply": "2024-12-17T08:07:48.941403Z"
    },
    "papermill": {
     "duration": 0.011685,
     "end_time": "2024-12-17T08:07:48.943616",
     "exception": false,
     "start_time": "2024-12-17T08:07:48.931931",
     "status": "completed"
    },
    "tags": []
   },
   "outputs": [
    {
     "data": {
      "text/plain": [
       "(569,)"
      ]
     },
     "execution_count": 4,
     "metadata": {},
     "output_type": "execute_result"
    }
   ],
   "source": [
    "y.shape"
   ]
  },
  {
   "cell_type": "code",
   "execution_count": 5,
   "id": "44dfecb5",
   "metadata": {
    "execution": {
     "iopub.execute_input": "2024-12-17T08:07:48.954657Z",
     "iopub.status.busy": "2024-12-17T08:07:48.954228Z",
     "iopub.status.idle": "2024-12-17T08:07:49.093561Z",
     "shell.execute_reply": "2024-12-17T08:07:49.092739Z"
    },
    "papermill": {
     "duration": 0.146792,
     "end_time": "2024-12-17T08:07:49.095493",
     "exception": false,
     "start_time": "2024-12-17T08:07:48.948701",
     "status": "completed"
    },
    "tags": []
   },
   "outputs": [],
   "source": [
    "from sklearn.model_selection import train_test_split\n",
    "\n",
    "\n",
    "X_train, X_test, y_train, y_test = train_test_split(\n",
    "                                                                X, y, test_size=0.2, random_state=42)"
   ]
  },
  {
   "cell_type": "code",
   "execution_count": 6,
   "id": "e55448d4",
   "metadata": {
    "execution": {
     "iopub.execute_input": "2024-12-17T08:07:49.107378Z",
     "iopub.status.busy": "2024-12-17T08:07:49.106653Z",
     "iopub.status.idle": "2024-12-17T08:07:58.515159Z",
     "shell.execute_reply": "2024-12-17T08:07:58.514051Z"
    },
    "papermill": {
     "duration": 9.416422,
     "end_time": "2024-12-17T08:07:58.517343",
     "exception": false,
     "start_time": "2024-12-17T08:07:49.100921",
     "status": "completed"
    },
    "tags": []
   },
   "outputs": [
    {
     "name": "stdout",
     "output_type": "stream",
     "text": [
      "Collecting lazypredict\r\n",
      "  Downloading lazypredict-0.2.13-py2.py3-none-any.whl.metadata (12 kB)\r\n",
      "Requirement already satisfied: click in /opt/conda/lib/python3.10/site-packages (from lazypredict) (8.1.7)\r\n",
      "Requirement already satisfied: scikit-learn in /opt/conda/lib/python3.10/site-packages (from lazypredict) (1.2.2)\r\n",
      "Requirement already satisfied: pandas in /opt/conda/lib/python3.10/site-packages (from lazypredict) (2.2.3)\r\n",
      "Requirement already satisfied: tqdm in /opt/conda/lib/python3.10/site-packages (from lazypredict) (4.66.4)\r\n",
      "Requirement already satisfied: joblib in /opt/conda/lib/python3.10/site-packages (from lazypredict) (1.4.2)\r\n",
      "Requirement already satisfied: lightgbm in /opt/conda/lib/python3.10/site-packages (from lazypredict) (4.2.0)\r\n",
      "Requirement already satisfied: xgboost in /opt/conda/lib/python3.10/site-packages (from lazypredict) (2.0.3)\r\n",
      "Requirement already satisfied: numpy in /opt/conda/lib/python3.10/site-packages (from lightgbm->lazypredict) (1.26.4)\r\n",
      "Requirement already satisfied: scipy in /opt/conda/lib/python3.10/site-packages (from lightgbm->lazypredict) (1.14.1)\r\n",
      "Requirement already satisfied: python-dateutil>=2.8.2 in /opt/conda/lib/python3.10/site-packages (from pandas->lazypredict) (2.9.0.post0)\r\n",
      "Requirement already satisfied: pytz>=2020.1 in /opt/conda/lib/python3.10/site-packages (from pandas->lazypredict) (2024.1)\r\n",
      "Requirement already satisfied: tzdata>=2022.7 in /opt/conda/lib/python3.10/site-packages (from pandas->lazypredict) (2024.1)\r\n",
      "Requirement already satisfied: threadpoolctl>=2.0.0 in /opt/conda/lib/python3.10/site-packages (from scikit-learn->lazypredict) (3.5.0)\r\n",
      "Requirement already satisfied: six>=1.5 in /opt/conda/lib/python3.10/site-packages (from python-dateutil>=2.8.2->pandas->lazypredict) (1.16.0)\r\n",
      "Downloading lazypredict-0.2.13-py2.py3-none-any.whl (12 kB)\r\n",
      "Installing collected packages: lazypredict\r\n",
      "Successfully installed lazypredict-0.2.13\r\n"
     ]
    }
   ],
   "source": [
    "!pip install lazypredict"
   ]
  },
  {
   "cell_type": "code",
   "execution_count": 7,
   "id": "ea90c32e",
   "metadata": {
    "execution": {
     "iopub.execute_input": "2024-12-17T08:07:58.529835Z",
     "iopub.status.busy": "2024-12-17T08:07:58.529512Z",
     "iopub.status.idle": "2024-12-17T08:08:03.507479Z",
     "shell.execute_reply": "2024-12-17T08:08:03.506609Z"
    },
    "papermill": {
     "duration": 4.987922,
     "end_time": "2024-12-17T08:08:03.511025",
     "exception": false,
     "start_time": "2024-12-17T08:07:58.523103",
     "status": "completed"
    },
    "tags": []
   },
   "outputs": [
    {
     "name": "stderr",
     "output_type": "stream",
     "text": [
      "100%|██████████| 29/29 [00:01<00:00, 16.75it/s]"
     ]
    },
    {
     "name": "stdout",
     "output_type": "stream",
     "text": [
      "[LightGBM] [Info] Number of positive: 286, number of negative: 169\n",
      "[LightGBM] [Info] Auto-choosing col-wise multi-threading, the overhead of testing was 0.000955 seconds.\n",
      "You can set `force_col_wise=true` to remove the overhead.\n",
      "[LightGBM] [Info] Total Bins 4540\n",
      "[LightGBM] [Info] Number of data points in the train set: 455, number of used features: 30\n",
      "[LightGBM] [Info] [binary:BoostFromScore]: pavg=0.628571 -> initscore=0.526093\n",
      "[LightGBM] [Info] Start training from score 0.526093\n",
      "[LightGBM] [Warning] No further splits with positive gain, best gain: -inf\n",
      "[LightGBM] [Warning] No further splits with positive gain, best gain: -inf\n",
      "[LightGBM] [Warning] No further splits with positive gain, best gain: -inf\n",
      "[LightGBM] [Warning] No further splits with positive gain, best gain: -inf\n",
      "[LightGBM] [Warning] No further splits with positive gain, best gain: -inf\n",
      "[LightGBM] [Warning] No further splits with positive gain, best gain: -inf\n",
      "[LightGBM] [Warning] No further splits with positive gain, best gain: -inf\n",
      "[LightGBM] [Warning] No further splits with positive gain, best gain: -inf\n",
      "[LightGBM] [Warning] No further splits with positive gain, best gain: -inf\n",
      "[LightGBM] [Warning] No further splits with positive gain, best gain: -inf\n",
      "[LightGBM] [Warning] No further splits with positive gain, best gain: -inf\n",
      "[LightGBM] [Warning] No further splits with positive gain, best gain: -inf\n",
      "[LightGBM] [Warning] No further splits with positive gain, best gain: -inf\n",
      "[LightGBM] [Warning] No further splits with positive gain, best gain: -inf\n",
      "[LightGBM] [Warning] No further splits with positive gain, best gain: -inf\n",
      "[LightGBM] [Warning] No further splits with positive gain, best gain: -inf\n",
      "[LightGBM] [Warning] No further splits with positive gain, best gain: -inf\n",
      "[LightGBM] [Warning] No further splits with positive gain, best gain: -inf\n",
      "[LightGBM] [Warning] No further splits with positive gain, best gain: -inf\n",
      "[LightGBM] [Warning] No further splits with positive gain, best gain: -inf\n",
      "[LightGBM] [Warning] No further splits with positive gain, best gain: -inf\n",
      "[LightGBM] [Warning] No further splits with positive gain, best gain: -inf\n",
      "[LightGBM] [Warning] No further splits with positive gain, best gain: -inf\n",
      "[LightGBM] [Warning] No further splits with positive gain, best gain: -inf\n",
      "[LightGBM] [Warning] No further splits with positive gain, best gain: -inf\n",
      "[LightGBM] [Warning] No further splits with positive gain, best gain: -inf\n",
      "[LightGBM] [Warning] No further splits with positive gain, best gain: -inf\n",
      "[LightGBM] [Warning] No further splits with positive gain, best gain: -inf\n",
      "[LightGBM] [Warning] No further splits with positive gain, best gain: -inf\n",
      "[LightGBM] [Warning] No further splits with positive gain, best gain: -inf\n",
      "[LightGBM] [Warning] No further splits with positive gain, best gain: -inf\n",
      "[LightGBM] [Warning] No further splits with positive gain, best gain: -inf\n",
      "[LightGBM] [Warning] No further splits with positive gain, best gain: -inf\n",
      "[LightGBM] [Warning] No further splits with positive gain, best gain: -inf\n",
      "[LightGBM] [Warning] No further splits with positive gain, best gain: -inf\n",
      "[LightGBM] [Warning] No further splits with positive gain, best gain: -inf\n",
      "[LightGBM] [Warning] No further splits with positive gain, best gain: -inf\n",
      "[LightGBM] [Warning] No further splits with positive gain, best gain: -inf\n",
      "[LightGBM] [Warning] No further splits with positive gain, best gain: -inf\n",
      "[LightGBM] [Warning] No further splits with positive gain, best gain: -inf\n",
      "[LightGBM] [Warning] No further splits with positive gain, best gain: -inf\n",
      "[LightGBM] [Warning] No further splits with positive gain, best gain: -inf\n",
      "[LightGBM] [Warning] No further splits with positive gain, best gain: -inf\n",
      "[LightGBM] [Warning] No further splits with positive gain, best gain: -inf\n",
      "[LightGBM] [Warning] No further splits with positive gain, best gain: -inf\n",
      "[LightGBM] [Warning] No further splits with positive gain, best gain: -inf\n",
      "[LightGBM] [Warning] No further splits with positive gain, best gain: -inf\n",
      "[LightGBM] [Warning] No further splits with positive gain, best gain: -inf\n",
      "[LightGBM] [Warning] No further splits with positive gain, best gain: -inf\n",
      "[LightGBM] [Warning] No further splits with positive gain, best gain: -inf\n",
      "[LightGBM] [Warning] No further splits with positive gain, best gain: -inf\n",
      "[LightGBM] [Warning] No further splits with positive gain, best gain: -inf\n",
      "[LightGBM] [Warning] No further splits with positive gain, best gain: -inf\n",
      "[LightGBM] [Warning] No further splits with positive gain, best gain: -inf\n",
      "[LightGBM] [Warning] No further splits with positive gain, best gain: -inf\n",
      "[LightGBM] [Warning] No further splits with positive gain, best gain: -inf\n",
      "[LightGBM] [Warning] No further splits with positive gain, best gain: -inf\n",
      "[LightGBM] [Warning] No further splits with positive gain, best gain: -inf\n",
      "[LightGBM] [Warning] No further splits with positive gain, best gain: -inf\n",
      "[LightGBM] [Warning] No further splits with positive gain, best gain: -inf\n",
      "[LightGBM] [Warning] No further splits with positive gain, best gain: -inf\n",
      "[LightGBM] [Warning] No further splits with positive gain, best gain: -inf\n",
      "[LightGBM] [Warning] No further splits with positive gain, best gain: -inf\n",
      "[LightGBM] [Warning] No further splits with positive gain, best gain: -inf\n",
      "[LightGBM] [Warning] No further splits with positive gain, best gain: -inf\n",
      "[LightGBM] [Warning] No further splits with positive gain, best gain: -inf\n",
      "[LightGBM] [Warning] No further splits with positive gain, best gain: -inf\n",
      "[LightGBM] [Warning] No further splits with positive gain, best gain: -inf\n",
      "[LightGBM] [Warning] No further splits with positive gain, best gain: -inf\n",
      "[LightGBM] [Warning] No further splits with positive gain, best gain: -inf\n",
      "[LightGBM] [Warning] No further splits with positive gain, best gain: -inf\n",
      "[LightGBM] [Warning] No further splits with positive gain, best gain: -inf\n",
      "[LightGBM] [Warning] No further splits with positive gain, best gain: -inf\n",
      "[LightGBM] [Warning] No further splits with positive gain, best gain: -inf\n",
      "[LightGBM] [Warning] No further splits with positive gain, best gain: -inf\n",
      "[LightGBM] [Warning] No further splits with positive gain, best gain: -inf\n",
      "[LightGBM] [Warning] No further splits with positive gain, best gain: -inf\n",
      "[LightGBM] [Warning] No further splits with positive gain, best gain: -inf\n",
      "[LightGBM] [Warning] No further splits with positive gain, best gain: -inf\n",
      "[LightGBM] [Warning] No further splits with positive gain, best gain: -inf\n",
      "[LightGBM] [Warning] No further splits with positive gain, best gain: -inf\n",
      "[LightGBM] [Warning] No further splits with positive gain, best gain: -inf\n",
      "[LightGBM] [Warning] No further splits with positive gain, best gain: -inf\n",
      "[LightGBM] [Warning] No further splits with positive gain, best gain: -inf\n",
      "[LightGBM] [Warning] No further splits with positive gain, best gain: -inf\n",
      "[LightGBM] [Warning] No further splits with positive gain, best gain: -inf\n",
      "[LightGBM] [Warning] No further splits with positive gain, best gain: -inf\n",
      "[LightGBM] [Warning] No further splits with positive gain, best gain: -inf\n",
      "[LightGBM] [Warning] No further splits with positive gain, best gain: -inf\n",
      "[LightGBM] [Warning] No further splits with positive gain, best gain: -inf\n",
      "[LightGBM] [Warning] No further splits with positive gain, best gain: -inf\n",
      "[LightGBM] [Warning] No further splits with positive gain, best gain: -inf\n",
      "[LightGBM] [Warning] No further splits with positive gain, best gain: -inf\n",
      "[LightGBM] [Warning] No further splits with positive gain, best gain: -inf\n",
      "[LightGBM] [Warning] No further splits with positive gain, best gain: -inf\n",
      "[LightGBM] [Warning] No further splits with positive gain, best gain: -inf\n",
      "[LightGBM] [Warning] No further splits with positive gain, best gain: -inf\n",
      "[LightGBM] [Warning] No further splits with positive gain, best gain: -inf\n",
      "[LightGBM] [Warning] No further splits with positive gain, best gain: -inf\n",
      "[LightGBM] [Warning] No further splits with positive gain, best gain: -inf\n"
     ]
    },
    {
     "name": "stderr",
     "output_type": "stream",
     "text": [
      "\n"
     ]
    }
   ],
   "source": [
    "from lazypredict.Supervised import LazyClassifier\n",
    "\n",
    "clf = LazyClassifier(verbose=0,\n",
    "                     ignore_warnings=True,\n",
    "                     custom_metric=None,\n",
    "                     predictions=True,\n",
    "                     random_state=2024,\n",
    "                     classifiers='all')\n",
    "\n",
    "models, predictions = clf.fit(X_train , X_test , y_train , y_test)"
   ]
  },
  {
   "cell_type": "code",
   "execution_count": 8,
   "id": "9393d31a",
   "metadata": {
    "execution": {
     "iopub.execute_input": "2024-12-17T08:08:03.525956Z",
     "iopub.status.busy": "2024-12-17T08:08:03.525256Z",
     "iopub.status.idle": "2024-12-17T08:08:03.540330Z",
     "shell.execute_reply": "2024-12-17T08:08:03.539541Z"
    },
    "papermill": {
     "duration": 0.024125,
     "end_time": "2024-12-17T08:08:03.541955",
     "exception": false,
     "start_time": "2024-12-17T08:08:03.517830",
     "status": "completed"
    },
    "tags": []
   },
   "outputs": [
    {
     "data": {
      "text/html": [
       "<div>\n",
       "<style scoped>\n",
       "    .dataframe tbody tr th:only-of-type {\n",
       "        vertical-align: middle;\n",
       "    }\n",
       "\n",
       "    .dataframe tbody tr th {\n",
       "        vertical-align: top;\n",
       "    }\n",
       "\n",
       "    .dataframe thead th {\n",
       "        text-align: right;\n",
       "    }\n",
       "</style>\n",
       "<table border=\"1\" class=\"dataframe\">\n",
       "  <thead>\n",
       "    <tr style=\"text-align: right;\">\n",
       "      <th></th>\n",
       "      <th>Accuracy</th>\n",
       "      <th>Balanced Accuracy</th>\n",
       "      <th>ROC AUC</th>\n",
       "      <th>F1 Score</th>\n",
       "      <th>Time Taken</th>\n",
       "    </tr>\n",
       "    <tr>\n",
       "      <th>Model</th>\n",
       "      <th></th>\n",
       "      <th></th>\n",
       "      <th></th>\n",
       "      <th></th>\n",
       "      <th></th>\n",
       "    </tr>\n",
       "  </thead>\n",
       "  <tbody>\n",
       "    <tr>\n",
       "      <th>BernoulliNB</th>\n",
       "      <td>0.98</td>\n",
       "      <td>0.98</td>\n",
       "      <td>0.98</td>\n",
       "      <td>0.98</td>\n",
       "      <td>0.01</td>\n",
       "    </tr>\n",
       "    <tr>\n",
       "      <th>SVC</th>\n",
       "      <td>0.98</td>\n",
       "      <td>0.98</td>\n",
       "      <td>0.98</td>\n",
       "      <td>0.98</td>\n",
       "      <td>0.02</td>\n",
       "    </tr>\n",
       "    <tr>\n",
       "      <th>Perceptron</th>\n",
       "      <td>0.97</td>\n",
       "      <td>0.97</td>\n",
       "      <td>0.97</td>\n",
       "      <td>0.97</td>\n",
       "      <td>0.01</td>\n",
       "    </tr>\n",
       "    <tr>\n",
       "      <th>AdaBoostClassifier</th>\n",
       "      <td>0.97</td>\n",
       "      <td>0.97</td>\n",
       "      <td>0.97</td>\n",
       "      <td>0.97</td>\n",
       "      <td>0.16</td>\n",
       "    </tr>\n",
       "    <tr>\n",
       "      <th>LogisticRegression</th>\n",
       "      <td>0.97</td>\n",
       "      <td>0.97</td>\n",
       "      <td>0.97</td>\n",
       "      <td>0.97</td>\n",
       "      <td>0.04</td>\n",
       "    </tr>\n",
       "    <tr>\n",
       "      <th>ExtraTreesClassifier</th>\n",
       "      <td>0.97</td>\n",
       "      <td>0.97</td>\n",
       "      <td>0.97</td>\n",
       "      <td>0.97</td>\n",
       "      <td>0.15</td>\n",
       "    </tr>\n",
       "    <tr>\n",
       "      <th>CalibratedClassifierCV</th>\n",
       "      <td>0.97</td>\n",
       "      <td>0.97</td>\n",
       "      <td>0.97</td>\n",
       "      <td>0.97</td>\n",
       "      <td>0.05</td>\n",
       "    </tr>\n",
       "    <tr>\n",
       "      <th>SGDClassifier</th>\n",
       "      <td>0.96</td>\n",
       "      <td>0.96</td>\n",
       "      <td>0.96</td>\n",
       "      <td>0.96</td>\n",
       "      <td>0.02</td>\n",
       "    </tr>\n",
       "    <tr>\n",
       "      <th>GaussianNB</th>\n",
       "      <td>0.96</td>\n",
       "      <td>0.96</td>\n",
       "      <td>0.96</td>\n",
       "      <td>0.96</td>\n",
       "      <td>0.01</td>\n",
       "    </tr>\n",
       "    <tr>\n",
       "      <th>RandomForestClassifier</th>\n",
       "      <td>0.96</td>\n",
       "      <td>0.96</td>\n",
       "      <td>0.96</td>\n",
       "      <td>0.96</td>\n",
       "      <td>0.28</td>\n",
       "    </tr>\n",
       "    <tr>\n",
       "      <th>LGBMClassifier</th>\n",
       "      <td>0.96</td>\n",
       "      <td>0.96</td>\n",
       "      <td>0.96</td>\n",
       "      <td>0.96</td>\n",
       "      <td>0.13</td>\n",
       "    </tr>\n",
       "    <tr>\n",
       "      <th>QuadraticDiscriminantAnalysis</th>\n",
       "      <td>0.96</td>\n",
       "      <td>0.96</td>\n",
       "      <td>0.96</td>\n",
       "      <td>0.96</td>\n",
       "      <td>0.03</td>\n",
       "    </tr>\n",
       "    <tr>\n",
       "      <th>LinearSVC</th>\n",
       "      <td>0.96</td>\n",
       "      <td>0.96</td>\n",
       "      <td>0.96</td>\n",
       "      <td>0.96</td>\n",
       "      <td>0.02</td>\n",
       "    </tr>\n",
       "    <tr>\n",
       "      <th>PassiveAggressiveClassifier</th>\n",
       "      <td>0.96</td>\n",
       "      <td>0.96</td>\n",
       "      <td>0.96</td>\n",
       "      <td>0.96</td>\n",
       "      <td>0.01</td>\n",
       "    </tr>\n",
       "    <tr>\n",
       "      <th>XGBClassifier</th>\n",
       "      <td>0.96</td>\n",
       "      <td>0.95</td>\n",
       "      <td>0.95</td>\n",
       "      <td>0.96</td>\n",
       "      <td>0.20</td>\n",
       "    </tr>\n",
       "    <tr>\n",
       "      <th>RidgeClassifierCV</th>\n",
       "      <td>0.96</td>\n",
       "      <td>0.95</td>\n",
       "      <td>0.95</td>\n",
       "      <td>0.96</td>\n",
       "      <td>0.03</td>\n",
       "    </tr>\n",
       "    <tr>\n",
       "      <th>NearestCentroid</th>\n",
       "      <td>0.96</td>\n",
       "      <td>0.95</td>\n",
       "      <td>0.95</td>\n",
       "      <td>0.96</td>\n",
       "      <td>0.10</td>\n",
       "    </tr>\n",
       "    <tr>\n",
       "      <th>LinearDiscriminantAnalysis</th>\n",
       "      <td>0.96</td>\n",
       "      <td>0.95</td>\n",
       "      <td>0.95</td>\n",
       "      <td>0.96</td>\n",
       "      <td>0.13</td>\n",
       "    </tr>\n",
       "    <tr>\n",
       "      <th>NuSVC</th>\n",
       "      <td>0.96</td>\n",
       "      <td>0.95</td>\n",
       "      <td>0.95</td>\n",
       "      <td>0.96</td>\n",
       "      <td>0.04</td>\n",
       "    </tr>\n",
       "    <tr>\n",
       "      <th>RidgeClassifier</th>\n",
       "      <td>0.96</td>\n",
       "      <td>0.95</td>\n",
       "      <td>0.95</td>\n",
       "      <td>0.96</td>\n",
       "      <td>0.02</td>\n",
       "    </tr>\n",
       "    <tr>\n",
       "      <th>BaggingClassifier</th>\n",
       "      <td>0.95</td>\n",
       "      <td>0.94</td>\n",
       "      <td>0.94</td>\n",
       "      <td>0.95</td>\n",
       "      <td>0.06</td>\n",
       "    </tr>\n",
       "    <tr>\n",
       "      <th>DecisionTreeClassifier</th>\n",
       "      <td>0.95</td>\n",
       "      <td>0.94</td>\n",
       "      <td>0.94</td>\n",
       "      <td>0.95</td>\n",
       "      <td>0.02</td>\n",
       "    </tr>\n",
       "    <tr>\n",
       "      <th>KNeighborsClassifier</th>\n",
       "      <td>0.95</td>\n",
       "      <td>0.94</td>\n",
       "      <td>0.94</td>\n",
       "      <td>0.95</td>\n",
       "      <td>0.06</td>\n",
       "    </tr>\n",
       "    <tr>\n",
       "      <th>ExtraTreeClassifier</th>\n",
       "      <td>0.94</td>\n",
       "      <td>0.94</td>\n",
       "      <td>0.94</td>\n",
       "      <td>0.94</td>\n",
       "      <td>0.01</td>\n",
       "    </tr>\n",
       "    <tr>\n",
       "      <th>LabelPropagation</th>\n",
       "      <td>0.94</td>\n",
       "      <td>0.93</td>\n",
       "      <td>0.93</td>\n",
       "      <td>0.94</td>\n",
       "      <td>0.06</td>\n",
       "    </tr>\n",
       "    <tr>\n",
       "      <th>LabelSpreading</th>\n",
       "      <td>0.94</td>\n",
       "      <td>0.93</td>\n",
       "      <td>0.93</td>\n",
       "      <td>0.94</td>\n",
       "      <td>0.04</td>\n",
       "    </tr>\n",
       "    <tr>\n",
       "      <th>DummyClassifier</th>\n",
       "      <td>0.62</td>\n",
       "      <td>0.50</td>\n",
       "      <td>0.50</td>\n",
       "      <td>0.48</td>\n",
       "      <td>0.01</td>\n",
       "    </tr>\n",
       "  </tbody>\n",
       "</table>\n",
       "</div>"
      ],
      "text/plain": [
       "                               Accuracy  Balanced Accuracy  ROC AUC  F1 Score  \\\n",
       "Model                                                                           \n",
       "BernoulliNB                        0.98               0.98     0.98      0.98   \n",
       "SVC                                0.98               0.98     0.98      0.98   \n",
       "Perceptron                         0.97               0.97     0.97      0.97   \n",
       "AdaBoostClassifier                 0.97               0.97     0.97      0.97   \n",
       "LogisticRegression                 0.97               0.97     0.97      0.97   \n",
       "ExtraTreesClassifier               0.97               0.97     0.97      0.97   \n",
       "CalibratedClassifierCV             0.97               0.97     0.97      0.97   \n",
       "SGDClassifier                      0.96               0.96     0.96      0.96   \n",
       "GaussianNB                         0.96               0.96     0.96      0.96   \n",
       "RandomForestClassifier             0.96               0.96     0.96      0.96   \n",
       "LGBMClassifier                     0.96               0.96     0.96      0.96   \n",
       "QuadraticDiscriminantAnalysis      0.96               0.96     0.96      0.96   \n",
       "LinearSVC                          0.96               0.96     0.96      0.96   \n",
       "PassiveAggressiveClassifier        0.96               0.96     0.96      0.96   \n",
       "XGBClassifier                      0.96               0.95     0.95      0.96   \n",
       "RidgeClassifierCV                  0.96               0.95     0.95      0.96   \n",
       "NearestCentroid                    0.96               0.95     0.95      0.96   \n",
       "LinearDiscriminantAnalysis         0.96               0.95     0.95      0.96   \n",
       "NuSVC                              0.96               0.95     0.95      0.96   \n",
       "RidgeClassifier                    0.96               0.95     0.95      0.96   \n",
       "BaggingClassifier                  0.95               0.94     0.94      0.95   \n",
       "DecisionTreeClassifier             0.95               0.94     0.94      0.95   \n",
       "KNeighborsClassifier               0.95               0.94     0.94      0.95   \n",
       "ExtraTreeClassifier                0.94               0.94     0.94      0.94   \n",
       "LabelPropagation                   0.94               0.93     0.93      0.94   \n",
       "LabelSpreading                     0.94               0.93     0.93      0.94   \n",
       "DummyClassifier                    0.62               0.50     0.50      0.48   \n",
       "\n",
       "                               Time Taken  \n",
       "Model                                      \n",
       "BernoulliNB                          0.01  \n",
       "SVC                                  0.02  \n",
       "Perceptron                           0.01  \n",
       "AdaBoostClassifier                   0.16  \n",
       "LogisticRegression                   0.04  \n",
       "ExtraTreesClassifier                 0.15  \n",
       "CalibratedClassifierCV               0.05  \n",
       "SGDClassifier                        0.02  \n",
       "GaussianNB                           0.01  \n",
       "RandomForestClassifier               0.28  \n",
       "LGBMClassifier                       0.13  \n",
       "QuadraticDiscriminantAnalysis        0.03  \n",
       "LinearSVC                            0.02  \n",
       "PassiveAggressiveClassifier          0.01  \n",
       "XGBClassifier                        0.20  \n",
       "RidgeClassifierCV                    0.03  \n",
       "NearestCentroid                      0.10  \n",
       "LinearDiscriminantAnalysis           0.13  \n",
       "NuSVC                                0.04  \n",
       "RidgeClassifier                      0.02  \n",
       "BaggingClassifier                    0.06  \n",
       "DecisionTreeClassifier               0.02  \n",
       "KNeighborsClassifier                 0.06  \n",
       "ExtraTreeClassifier                  0.01  \n",
       "LabelPropagation                     0.06  \n",
       "LabelSpreading                       0.04  \n",
       "DummyClassifier                      0.01  "
      ]
     },
     "execution_count": 8,
     "metadata": {},
     "output_type": "execute_result"
    }
   ],
   "source": [
    "models"
   ]
  },
  {
   "cell_type": "code",
   "execution_count": 9,
   "id": "289afcf4",
   "metadata": {
    "execution": {
     "iopub.execute_input": "2024-12-17T08:08:03.556397Z",
     "iopub.status.busy": "2024-12-17T08:08:03.555736Z",
     "iopub.status.idle": "2024-12-17T08:08:03.572092Z",
     "shell.execute_reply": "2024-12-17T08:08:03.571442Z"
    },
    "papermill": {
     "duration": 0.025402,
     "end_time": "2024-12-17T08:08:03.573884",
     "exception": false,
     "start_time": "2024-12-17T08:08:03.548482",
     "status": "completed"
    },
    "tags": []
   },
   "outputs": [
    {
     "data": {
      "text/html": [
       "<div>\n",
       "<style scoped>\n",
       "    .dataframe tbody tr th:only-of-type {\n",
       "        vertical-align: middle;\n",
       "    }\n",
       "\n",
       "    .dataframe tbody tr th {\n",
       "        vertical-align: top;\n",
       "    }\n",
       "\n",
       "    .dataframe thead th {\n",
       "        text-align: right;\n",
       "    }\n",
       "</style>\n",
       "<table border=\"1\" class=\"dataframe\">\n",
       "  <thead>\n",
       "    <tr style=\"text-align: right;\">\n",
       "      <th></th>\n",
       "      <th>AdaBoostClassifier</th>\n",
       "      <th>BaggingClassifier</th>\n",
       "      <th>BernoulliNB</th>\n",
       "      <th>CalibratedClassifierCV</th>\n",
       "      <th>DecisionTreeClassifier</th>\n",
       "      <th>DummyClassifier</th>\n",
       "      <th>ExtraTreeClassifier</th>\n",
       "      <th>ExtraTreesClassifier</th>\n",
       "      <th>GaussianNB</th>\n",
       "      <th>KNeighborsClassifier</th>\n",
       "      <th>...</th>\n",
       "      <th>PassiveAggressiveClassifier</th>\n",
       "      <th>Perceptron</th>\n",
       "      <th>QuadraticDiscriminantAnalysis</th>\n",
       "      <th>RandomForestClassifier</th>\n",
       "      <th>RidgeClassifier</th>\n",
       "      <th>RidgeClassifierCV</th>\n",
       "      <th>SGDClassifier</th>\n",
       "      <th>SVC</th>\n",
       "      <th>XGBClassifier</th>\n",
       "      <th>LGBMClassifier</th>\n",
       "    </tr>\n",
       "  </thead>\n",
       "  <tbody>\n",
       "    <tr>\n",
       "      <th>0</th>\n",
       "      <td>1</td>\n",
       "      <td>1</td>\n",
       "      <td>1</td>\n",
       "      <td>1</td>\n",
       "      <td>1</td>\n",
       "      <td>1</td>\n",
       "      <td>1</td>\n",
       "      <td>1</td>\n",
       "      <td>1</td>\n",
       "      <td>1</td>\n",
       "      <td>...</td>\n",
       "      <td>1</td>\n",
       "      <td>1</td>\n",
       "      <td>1</td>\n",
       "      <td>1</td>\n",
       "      <td>1</td>\n",
       "      <td>1</td>\n",
       "      <td>1</td>\n",
       "      <td>1</td>\n",
       "      <td>1</td>\n",
       "      <td>1</td>\n",
       "    </tr>\n",
       "    <tr>\n",
       "      <th>1</th>\n",
       "      <td>0</td>\n",
       "      <td>0</td>\n",
       "      <td>0</td>\n",
       "      <td>0</td>\n",
       "      <td>0</td>\n",
       "      <td>1</td>\n",
       "      <td>0</td>\n",
       "      <td>0</td>\n",
       "      <td>0</td>\n",
       "      <td>0</td>\n",
       "      <td>...</td>\n",
       "      <td>0</td>\n",
       "      <td>0</td>\n",
       "      <td>0</td>\n",
       "      <td>0</td>\n",
       "      <td>0</td>\n",
       "      <td>0</td>\n",
       "      <td>0</td>\n",
       "      <td>0</td>\n",
       "      <td>0</td>\n",
       "      <td>0</td>\n",
       "    </tr>\n",
       "    <tr>\n",
       "      <th>2</th>\n",
       "      <td>0</td>\n",
       "      <td>0</td>\n",
       "      <td>0</td>\n",
       "      <td>0</td>\n",
       "      <td>0</td>\n",
       "      <td>1</td>\n",
       "      <td>0</td>\n",
       "      <td>0</td>\n",
       "      <td>0</td>\n",
       "      <td>0</td>\n",
       "      <td>...</td>\n",
       "      <td>0</td>\n",
       "      <td>0</td>\n",
       "      <td>0</td>\n",
       "      <td>0</td>\n",
       "      <td>0</td>\n",
       "      <td>0</td>\n",
       "      <td>0</td>\n",
       "      <td>0</td>\n",
       "      <td>0</td>\n",
       "      <td>0</td>\n",
       "    </tr>\n",
       "    <tr>\n",
       "      <th>3</th>\n",
       "      <td>1</td>\n",
       "      <td>1</td>\n",
       "      <td>1</td>\n",
       "      <td>1</td>\n",
       "      <td>1</td>\n",
       "      <td>1</td>\n",
       "      <td>1</td>\n",
       "      <td>1</td>\n",
       "      <td>1</td>\n",
       "      <td>1</td>\n",
       "      <td>...</td>\n",
       "      <td>1</td>\n",
       "      <td>1</td>\n",
       "      <td>1</td>\n",
       "      <td>1</td>\n",
       "      <td>1</td>\n",
       "      <td>1</td>\n",
       "      <td>1</td>\n",
       "      <td>1</td>\n",
       "      <td>1</td>\n",
       "      <td>1</td>\n",
       "    </tr>\n",
       "    <tr>\n",
       "      <th>4</th>\n",
       "      <td>1</td>\n",
       "      <td>1</td>\n",
       "      <td>1</td>\n",
       "      <td>1</td>\n",
       "      <td>1</td>\n",
       "      <td>1</td>\n",
       "      <td>1</td>\n",
       "      <td>1</td>\n",
       "      <td>1</td>\n",
       "      <td>1</td>\n",
       "      <td>...</td>\n",
       "      <td>1</td>\n",
       "      <td>1</td>\n",
       "      <td>1</td>\n",
       "      <td>1</td>\n",
       "      <td>1</td>\n",
       "      <td>1</td>\n",
       "      <td>1</td>\n",
       "      <td>1</td>\n",
       "      <td>1</td>\n",
       "      <td>1</td>\n",
       "    </tr>\n",
       "    <tr>\n",
       "      <th>...</th>\n",
       "      <td>...</td>\n",
       "      <td>...</td>\n",
       "      <td>...</td>\n",
       "      <td>...</td>\n",
       "      <td>...</td>\n",
       "      <td>...</td>\n",
       "      <td>...</td>\n",
       "      <td>...</td>\n",
       "      <td>...</td>\n",
       "      <td>...</td>\n",
       "      <td>...</td>\n",
       "      <td>...</td>\n",
       "      <td>...</td>\n",
       "      <td>...</td>\n",
       "      <td>...</td>\n",
       "      <td>...</td>\n",
       "      <td>...</td>\n",
       "      <td>...</td>\n",
       "      <td>...</td>\n",
       "      <td>...</td>\n",
       "      <td>...</td>\n",
       "    </tr>\n",
       "    <tr>\n",
       "      <th>109</th>\n",
       "      <td>1</td>\n",
       "      <td>1</td>\n",
       "      <td>1</td>\n",
       "      <td>1</td>\n",
       "      <td>1</td>\n",
       "      <td>1</td>\n",
       "      <td>1</td>\n",
       "      <td>1</td>\n",
       "      <td>1</td>\n",
       "      <td>1</td>\n",
       "      <td>...</td>\n",
       "      <td>1</td>\n",
       "      <td>1</td>\n",
       "      <td>1</td>\n",
       "      <td>1</td>\n",
       "      <td>1</td>\n",
       "      <td>1</td>\n",
       "      <td>1</td>\n",
       "      <td>1</td>\n",
       "      <td>1</td>\n",
       "      <td>1</td>\n",
       "    </tr>\n",
       "    <tr>\n",
       "      <th>110</th>\n",
       "      <td>0</td>\n",
       "      <td>0</td>\n",
       "      <td>0</td>\n",
       "      <td>0</td>\n",
       "      <td>0</td>\n",
       "      <td>1</td>\n",
       "      <td>0</td>\n",
       "      <td>0</td>\n",
       "      <td>0</td>\n",
       "      <td>0</td>\n",
       "      <td>...</td>\n",
       "      <td>0</td>\n",
       "      <td>0</td>\n",
       "      <td>0</td>\n",
       "      <td>0</td>\n",
       "      <td>0</td>\n",
       "      <td>0</td>\n",
       "      <td>0</td>\n",
       "      <td>0</td>\n",
       "      <td>0</td>\n",
       "      <td>0</td>\n",
       "    </tr>\n",
       "    <tr>\n",
       "      <th>111</th>\n",
       "      <td>1</td>\n",
       "      <td>1</td>\n",
       "      <td>1</td>\n",
       "      <td>1</td>\n",
       "      <td>1</td>\n",
       "      <td>1</td>\n",
       "      <td>1</td>\n",
       "      <td>1</td>\n",
       "      <td>1</td>\n",
       "      <td>1</td>\n",
       "      <td>...</td>\n",
       "      <td>1</td>\n",
       "      <td>1</td>\n",
       "      <td>1</td>\n",
       "      <td>1</td>\n",
       "      <td>1</td>\n",
       "      <td>1</td>\n",
       "      <td>1</td>\n",
       "      <td>1</td>\n",
       "      <td>1</td>\n",
       "      <td>1</td>\n",
       "    </tr>\n",
       "    <tr>\n",
       "      <th>112</th>\n",
       "      <td>1</td>\n",
       "      <td>0</td>\n",
       "      <td>1</td>\n",
       "      <td>1</td>\n",
       "      <td>1</td>\n",
       "      <td>1</td>\n",
       "      <td>1</td>\n",
       "      <td>1</td>\n",
       "      <td>1</td>\n",
       "      <td>1</td>\n",
       "      <td>...</td>\n",
       "      <td>0</td>\n",
       "      <td>1</td>\n",
       "      <td>1</td>\n",
       "      <td>1</td>\n",
       "      <td>1</td>\n",
       "      <td>1</td>\n",
       "      <td>0</td>\n",
       "      <td>1</td>\n",
       "      <td>1</td>\n",
       "      <td>1</td>\n",
       "    </tr>\n",
       "    <tr>\n",
       "      <th>113</th>\n",
       "      <td>0</td>\n",
       "      <td>0</td>\n",
       "      <td>0</td>\n",
       "      <td>0</td>\n",
       "      <td>0</td>\n",
       "      <td>1</td>\n",
       "      <td>0</td>\n",
       "      <td>0</td>\n",
       "      <td>0</td>\n",
       "      <td>0</td>\n",
       "      <td>...</td>\n",
       "      <td>0</td>\n",
       "      <td>0</td>\n",
       "      <td>0</td>\n",
       "      <td>0</td>\n",
       "      <td>0</td>\n",
       "      <td>0</td>\n",
       "      <td>0</td>\n",
       "      <td>0</td>\n",
       "      <td>0</td>\n",
       "      <td>0</td>\n",
       "    </tr>\n",
       "  </tbody>\n",
       "</table>\n",
       "<p>114 rows × 27 columns</p>\n",
       "</div>"
      ],
      "text/plain": [
       "     AdaBoostClassifier  BaggingClassifier  BernoulliNB  \\\n",
       "0                     1                  1            1   \n",
       "1                     0                  0            0   \n",
       "2                     0                  0            0   \n",
       "3                     1                  1            1   \n",
       "4                     1                  1            1   \n",
       "..                  ...                ...          ...   \n",
       "109                   1                  1            1   \n",
       "110                   0                  0            0   \n",
       "111                   1                  1            1   \n",
       "112                   1                  0            1   \n",
       "113                   0                  0            0   \n",
       "\n",
       "     CalibratedClassifierCV  DecisionTreeClassifier  DummyClassifier  \\\n",
       "0                         1                       1                1   \n",
       "1                         0                       0                1   \n",
       "2                         0                       0                1   \n",
       "3                         1                       1                1   \n",
       "4                         1                       1                1   \n",
       "..                      ...                     ...              ...   \n",
       "109                       1                       1                1   \n",
       "110                       0                       0                1   \n",
       "111                       1                       1                1   \n",
       "112                       1                       1                1   \n",
       "113                       0                       0                1   \n",
       "\n",
       "     ExtraTreeClassifier  ExtraTreesClassifier  GaussianNB  \\\n",
       "0                      1                     1           1   \n",
       "1                      0                     0           0   \n",
       "2                      0                     0           0   \n",
       "3                      1                     1           1   \n",
       "4                      1                     1           1   \n",
       "..                   ...                   ...         ...   \n",
       "109                    1                     1           1   \n",
       "110                    0                     0           0   \n",
       "111                    1                     1           1   \n",
       "112                    1                     1           1   \n",
       "113                    0                     0           0   \n",
       "\n",
       "     KNeighborsClassifier  ...  PassiveAggressiveClassifier  Perceptron  \\\n",
       "0                       1  ...                            1           1   \n",
       "1                       0  ...                            0           0   \n",
       "2                       0  ...                            0           0   \n",
       "3                       1  ...                            1           1   \n",
       "4                       1  ...                            1           1   \n",
       "..                    ...  ...                          ...         ...   \n",
       "109                     1  ...                            1           1   \n",
       "110                     0  ...                            0           0   \n",
       "111                     1  ...                            1           1   \n",
       "112                     1  ...                            0           1   \n",
       "113                     0  ...                            0           0   \n",
       "\n",
       "     QuadraticDiscriminantAnalysis  RandomForestClassifier  RidgeClassifier  \\\n",
       "0                                1                       1                1   \n",
       "1                                0                       0                0   \n",
       "2                                0                       0                0   \n",
       "3                                1                       1                1   \n",
       "4                                1                       1                1   \n",
       "..                             ...                     ...              ...   \n",
       "109                              1                       1                1   \n",
       "110                              0                       0                0   \n",
       "111                              1                       1                1   \n",
       "112                              1                       1                1   \n",
       "113                              0                       0                0   \n",
       "\n",
       "     RidgeClassifierCV  SGDClassifier  SVC  XGBClassifier  LGBMClassifier  \n",
       "0                    1              1    1              1               1  \n",
       "1                    0              0    0              0               0  \n",
       "2                    0              0    0              0               0  \n",
       "3                    1              1    1              1               1  \n",
       "4                    1              1    1              1               1  \n",
       "..                 ...            ...  ...            ...             ...  \n",
       "109                  1              1    1              1               1  \n",
       "110                  0              0    0              0               0  \n",
       "111                  1              1    1              1               1  \n",
       "112                  1              0    1              1               1  \n",
       "113                  0              0    0              0               0  \n",
       "\n",
       "[114 rows x 27 columns]"
      ]
     },
     "execution_count": 9,
     "metadata": {},
     "output_type": "execute_result"
    }
   ],
   "source": [
    "predictions"
   ]
  },
  {
   "cell_type": "code",
   "execution_count": null,
   "id": "810059d1",
   "metadata": {
    "papermill": {
     "duration": 0.006697,
     "end_time": "2024-12-17T08:08:03.587890",
     "exception": false,
     "start_time": "2024-12-17T08:08:03.581193",
     "status": "completed"
    },
    "tags": []
   },
   "outputs": [],
   "source": []
  },
  {
   "cell_type": "code",
   "execution_count": 10,
   "id": "aa4b0560",
   "metadata": {
    "execution": {
     "iopub.execute_input": "2024-12-17T08:08:03.602233Z",
     "iopub.status.busy": "2024-12-17T08:08:03.602002Z",
     "iopub.status.idle": "2024-12-17T08:08:03.605480Z",
     "shell.execute_reply": "2024-12-17T08:08:03.604652Z"
    },
    "papermill": {
     "duration": 0.012614,
     "end_time": "2024-12-17T08:08:03.607174",
     "exception": false,
     "start_time": "2024-12-17T08:08:03.594560",
     "status": "completed"
    },
    "tags": []
   },
   "outputs": [],
   "source": [
    "from sklearn.tree import DecisionTreeClassifier"
   ]
  },
  {
   "cell_type": "code",
   "execution_count": 11,
   "id": "e9518faf",
   "metadata": {
    "execution": {
     "iopub.execute_input": "2024-12-17T08:08:03.621842Z",
     "iopub.status.busy": "2024-12-17T08:08:03.621344Z",
     "iopub.status.idle": "2024-12-17T08:08:03.624958Z",
     "shell.execute_reply": "2024-12-17T08:08:03.624254Z"
    },
    "papermill": {
     "duration": 0.01254,
     "end_time": "2024-12-17T08:08:03.626464",
     "exception": false,
     "start_time": "2024-12-17T08:08:03.613924",
     "status": "completed"
    },
    "tags": []
   },
   "outputs": [],
   "source": [
    "model = DecisionTreeClassifier()"
   ]
  },
  {
   "cell_type": "code",
   "execution_count": 12,
   "id": "608fea84",
   "metadata": {
    "execution": {
     "iopub.execute_input": "2024-12-17T08:08:03.641207Z",
     "iopub.status.busy": "2024-12-17T08:08:03.640699Z",
     "iopub.status.idle": "2024-12-17T08:08:03.655577Z",
     "shell.execute_reply": "2024-12-17T08:08:03.654875Z"
    },
    "papermill": {
     "duration": 0.02381,
     "end_time": "2024-12-17T08:08:03.657166",
     "exception": false,
     "start_time": "2024-12-17T08:08:03.633356",
     "status": "completed"
    },
    "tags": []
   },
   "outputs": [
    {
     "data": {
      "text/html": [
       "<style>#sk-container-id-1 {color: black;background-color: white;}#sk-container-id-1 pre{padding: 0;}#sk-container-id-1 div.sk-toggleable {background-color: white;}#sk-container-id-1 label.sk-toggleable__label {cursor: pointer;display: block;width: 100%;margin-bottom: 0;padding: 0.3em;box-sizing: border-box;text-align: center;}#sk-container-id-1 label.sk-toggleable__label-arrow:before {content: \"▸\";float: left;margin-right: 0.25em;color: #696969;}#sk-container-id-1 label.sk-toggleable__label-arrow:hover:before {color: black;}#sk-container-id-1 div.sk-estimator:hover label.sk-toggleable__label-arrow:before {color: black;}#sk-container-id-1 div.sk-toggleable__content {max-height: 0;max-width: 0;overflow: hidden;text-align: left;background-color: #f0f8ff;}#sk-container-id-1 div.sk-toggleable__content pre {margin: 0.2em;color: black;border-radius: 0.25em;background-color: #f0f8ff;}#sk-container-id-1 input.sk-toggleable__control:checked~div.sk-toggleable__content {max-height: 200px;max-width: 100%;overflow: auto;}#sk-container-id-1 input.sk-toggleable__control:checked~label.sk-toggleable__label-arrow:before {content: \"▾\";}#sk-container-id-1 div.sk-estimator input.sk-toggleable__control:checked~label.sk-toggleable__label {background-color: #d4ebff;}#sk-container-id-1 div.sk-label input.sk-toggleable__control:checked~label.sk-toggleable__label {background-color: #d4ebff;}#sk-container-id-1 input.sk-hidden--visually {border: 0;clip: rect(1px 1px 1px 1px);clip: rect(1px, 1px, 1px, 1px);height: 1px;margin: -1px;overflow: hidden;padding: 0;position: absolute;width: 1px;}#sk-container-id-1 div.sk-estimator {font-family: monospace;background-color: #f0f8ff;border: 1px dotted black;border-radius: 0.25em;box-sizing: border-box;margin-bottom: 0.5em;}#sk-container-id-1 div.sk-estimator:hover {background-color: #d4ebff;}#sk-container-id-1 div.sk-parallel-item::after {content: \"\";width: 100%;border-bottom: 1px solid gray;flex-grow: 1;}#sk-container-id-1 div.sk-label:hover label.sk-toggleable__label {background-color: #d4ebff;}#sk-container-id-1 div.sk-serial::before {content: \"\";position: absolute;border-left: 1px solid gray;box-sizing: border-box;top: 0;bottom: 0;left: 50%;z-index: 0;}#sk-container-id-1 div.sk-serial {display: flex;flex-direction: column;align-items: center;background-color: white;padding-right: 0.2em;padding-left: 0.2em;position: relative;}#sk-container-id-1 div.sk-item {position: relative;z-index: 1;}#sk-container-id-1 div.sk-parallel {display: flex;align-items: stretch;justify-content: center;background-color: white;position: relative;}#sk-container-id-1 div.sk-item::before, #sk-container-id-1 div.sk-parallel-item::before {content: \"\";position: absolute;border-left: 1px solid gray;box-sizing: border-box;top: 0;bottom: 0;left: 50%;z-index: -1;}#sk-container-id-1 div.sk-parallel-item {display: flex;flex-direction: column;z-index: 1;position: relative;background-color: white;}#sk-container-id-1 div.sk-parallel-item:first-child::after {align-self: flex-end;width: 50%;}#sk-container-id-1 div.sk-parallel-item:last-child::after {align-self: flex-start;width: 50%;}#sk-container-id-1 div.sk-parallel-item:only-child::after {width: 0;}#sk-container-id-1 div.sk-dashed-wrapped {border: 1px dashed gray;margin: 0 0.4em 0.5em 0.4em;box-sizing: border-box;padding-bottom: 0.4em;background-color: white;}#sk-container-id-1 div.sk-label label {font-family: monospace;font-weight: bold;display: inline-block;line-height: 1.2em;}#sk-container-id-1 div.sk-label-container {text-align: center;}#sk-container-id-1 div.sk-container {/* jupyter's `normalize.less` sets `[hidden] { display: none; }` but bootstrap.min.css set `[hidden] { display: none !important; }` so we also need the `!important` here to be able to override the default hidden behavior on the sphinx rendered scikit-learn.org. See: https://github.com/scikit-learn/scikit-learn/issues/21755 */display: inline-block !important;position: relative;}#sk-container-id-1 div.sk-text-repr-fallback {display: none;}</style><div id=\"sk-container-id-1\" class=\"sk-top-container\"><div class=\"sk-text-repr-fallback\"><pre>DecisionTreeClassifier()</pre><b>In a Jupyter environment, please rerun this cell to show the HTML representation or trust the notebook. <br />On GitHub, the HTML representation is unable to render, please try loading this page with nbviewer.org.</b></div><div class=\"sk-container\" hidden><div class=\"sk-item\"><div class=\"sk-estimator sk-toggleable\"><input class=\"sk-toggleable__control sk-hidden--visually\" id=\"sk-estimator-id-1\" type=\"checkbox\" checked><label for=\"sk-estimator-id-1\" class=\"sk-toggleable__label sk-toggleable__label-arrow\">DecisionTreeClassifier</label><div class=\"sk-toggleable__content\"><pre>DecisionTreeClassifier()</pre></div></div></div></div></div>"
      ],
      "text/plain": [
       "DecisionTreeClassifier()"
      ]
     },
     "execution_count": 12,
     "metadata": {},
     "output_type": "execute_result"
    }
   ],
   "source": [
    "model.fit(X_train, y_train)"
   ]
  },
  {
   "cell_type": "code",
   "execution_count": 13,
   "id": "763958a3",
   "metadata": {
    "execution": {
     "iopub.execute_input": "2024-12-17T08:08:03.672423Z",
     "iopub.status.busy": "2024-12-17T08:08:03.671905Z",
     "iopub.status.idle": "2024-12-17T08:08:03.675831Z",
     "shell.execute_reply": "2024-12-17T08:08:03.675101Z"
    },
    "papermill": {
     "duration": 0.013293,
     "end_time": "2024-12-17T08:08:03.677407",
     "exception": false,
     "start_time": "2024-12-17T08:08:03.664114",
     "status": "completed"
    },
    "tags": []
   },
   "outputs": [],
   "source": [
    "pre = model.predict(X_test)"
   ]
  },
  {
   "cell_type": "code",
   "execution_count": 14,
   "id": "023d8886",
   "metadata": {
    "execution": {
     "iopub.execute_input": "2024-12-17T08:08:03.691831Z",
     "iopub.status.busy": "2024-12-17T08:08:03.691553Z",
     "iopub.status.idle": "2024-12-17T08:08:03.695010Z",
     "shell.execute_reply": "2024-12-17T08:08:03.694318Z"
    },
    "papermill": {
     "duration": 0.012461,
     "end_time": "2024-12-17T08:08:03.696599",
     "exception": false,
     "start_time": "2024-12-17T08:08:03.684138",
     "status": "completed"
    },
    "tags": []
   },
   "outputs": [],
   "source": [
    "from sklearn.metrics import accuracy_score"
   ]
  },
  {
   "cell_type": "code",
   "execution_count": 15,
   "id": "7394df12",
   "metadata": {
    "execution": {
     "iopub.execute_input": "2024-12-17T08:08:03.711186Z",
     "iopub.status.busy": "2024-12-17T08:08:03.710944Z",
     "iopub.status.idle": "2024-12-17T08:08:03.715316Z",
     "shell.execute_reply": "2024-12-17T08:08:03.714469Z"
    },
    "papermill": {
     "duration": 0.013433,
     "end_time": "2024-12-17T08:08:03.717009",
     "exception": false,
     "start_time": "2024-12-17T08:08:03.703576",
     "status": "completed"
    },
    "tags": []
   },
   "outputs": [],
   "source": [
    "accuarcy = accuracy_score(pre, y_test)"
   ]
  },
  {
   "cell_type": "code",
   "execution_count": 16,
   "id": "7f72830a",
   "metadata": {
    "execution": {
     "iopub.execute_input": "2024-12-17T08:08:03.731541Z",
     "iopub.status.busy": "2024-12-17T08:08:03.731089Z",
     "iopub.status.idle": "2024-12-17T08:08:03.735771Z",
     "shell.execute_reply": "2024-12-17T08:08:03.734991Z"
    },
    "papermill": {
     "duration": 0.013515,
     "end_time": "2024-12-17T08:08:03.737272",
     "exception": false,
     "start_time": "2024-12-17T08:08:03.723757",
     "status": "completed"
    },
    "tags": []
   },
   "outputs": [
    {
     "data": {
      "text/plain": [
       "94.73684210526315"
      ]
     },
     "execution_count": 16,
     "metadata": {},
     "output_type": "execute_result"
    }
   ],
   "source": [
    "accuarcy*100"
   ]
  },
  {
   "cell_type": "code",
   "execution_count": 17,
   "id": "24c2fcd7",
   "metadata": {
    "execution": {
     "iopub.execute_input": "2024-12-17T08:08:03.751774Z",
     "iopub.status.busy": "2024-12-17T08:08:03.751508Z",
     "iopub.status.idle": "2024-12-17T08:08:03.754877Z",
     "shell.execute_reply": "2024-12-17T08:08:03.754110Z"
    },
    "papermill": {
     "duration": 0.012412,
     "end_time": "2024-12-17T08:08:03.756494",
     "exception": false,
     "start_time": "2024-12-17T08:08:03.744082",
     "status": "completed"
    },
    "tags": []
   },
   "outputs": [],
   "source": [
    "from sklearn.linear_model import LogisticRegression"
   ]
  },
  {
   "cell_type": "code",
   "execution_count": 18,
   "id": "11749dad",
   "metadata": {
    "execution": {
     "iopub.execute_input": "2024-12-17T08:08:03.771099Z",
     "iopub.status.busy": "2024-12-17T08:08:03.770883Z",
     "iopub.status.idle": "2024-12-17T08:08:03.774041Z",
     "shell.execute_reply": "2024-12-17T08:08:03.773428Z"
    },
    "papermill": {
     "duration": 0.012169,
     "end_time": "2024-12-17T08:08:03.775528",
     "exception": false,
     "start_time": "2024-12-17T08:08:03.763359",
     "status": "completed"
    },
    "tags": []
   },
   "outputs": [],
   "source": [
    "model_ = LogisticRegression()"
   ]
  },
  {
   "cell_type": "code",
   "execution_count": 19,
   "id": "9db104c4",
   "metadata": {
    "execution": {
     "iopub.execute_input": "2024-12-17T08:08:03.790182Z",
     "iopub.status.busy": "2024-12-17T08:08:03.789950Z",
     "iopub.status.idle": "2024-12-17T08:08:03.836675Z",
     "shell.execute_reply": "2024-12-17T08:08:03.835763Z"
    },
    "papermill": {
     "duration": 0.057485,
     "end_time": "2024-12-17T08:08:03.839996",
     "exception": false,
     "start_time": "2024-12-17T08:08:03.782511",
     "status": "completed"
    },
    "tags": []
   },
   "outputs": [
    {
     "data": {
      "text/html": [
       "<style>#sk-container-id-2 {color: black;background-color: white;}#sk-container-id-2 pre{padding: 0;}#sk-container-id-2 div.sk-toggleable {background-color: white;}#sk-container-id-2 label.sk-toggleable__label {cursor: pointer;display: block;width: 100%;margin-bottom: 0;padding: 0.3em;box-sizing: border-box;text-align: center;}#sk-container-id-2 label.sk-toggleable__label-arrow:before {content: \"▸\";float: left;margin-right: 0.25em;color: #696969;}#sk-container-id-2 label.sk-toggleable__label-arrow:hover:before {color: black;}#sk-container-id-2 div.sk-estimator:hover label.sk-toggleable__label-arrow:before {color: black;}#sk-container-id-2 div.sk-toggleable__content {max-height: 0;max-width: 0;overflow: hidden;text-align: left;background-color: #f0f8ff;}#sk-container-id-2 div.sk-toggleable__content pre {margin: 0.2em;color: black;border-radius: 0.25em;background-color: #f0f8ff;}#sk-container-id-2 input.sk-toggleable__control:checked~div.sk-toggleable__content {max-height: 200px;max-width: 100%;overflow: auto;}#sk-container-id-2 input.sk-toggleable__control:checked~label.sk-toggleable__label-arrow:before {content: \"▾\";}#sk-container-id-2 div.sk-estimator input.sk-toggleable__control:checked~label.sk-toggleable__label {background-color: #d4ebff;}#sk-container-id-2 div.sk-label input.sk-toggleable__control:checked~label.sk-toggleable__label {background-color: #d4ebff;}#sk-container-id-2 input.sk-hidden--visually {border: 0;clip: rect(1px 1px 1px 1px);clip: rect(1px, 1px, 1px, 1px);height: 1px;margin: -1px;overflow: hidden;padding: 0;position: absolute;width: 1px;}#sk-container-id-2 div.sk-estimator {font-family: monospace;background-color: #f0f8ff;border: 1px dotted black;border-radius: 0.25em;box-sizing: border-box;margin-bottom: 0.5em;}#sk-container-id-2 div.sk-estimator:hover {background-color: #d4ebff;}#sk-container-id-2 div.sk-parallel-item::after {content: \"\";width: 100%;border-bottom: 1px solid gray;flex-grow: 1;}#sk-container-id-2 div.sk-label:hover label.sk-toggleable__label {background-color: #d4ebff;}#sk-container-id-2 div.sk-serial::before {content: \"\";position: absolute;border-left: 1px solid gray;box-sizing: border-box;top: 0;bottom: 0;left: 50%;z-index: 0;}#sk-container-id-2 div.sk-serial {display: flex;flex-direction: column;align-items: center;background-color: white;padding-right: 0.2em;padding-left: 0.2em;position: relative;}#sk-container-id-2 div.sk-item {position: relative;z-index: 1;}#sk-container-id-2 div.sk-parallel {display: flex;align-items: stretch;justify-content: center;background-color: white;position: relative;}#sk-container-id-2 div.sk-item::before, #sk-container-id-2 div.sk-parallel-item::before {content: \"\";position: absolute;border-left: 1px solid gray;box-sizing: border-box;top: 0;bottom: 0;left: 50%;z-index: -1;}#sk-container-id-2 div.sk-parallel-item {display: flex;flex-direction: column;z-index: 1;position: relative;background-color: white;}#sk-container-id-2 div.sk-parallel-item:first-child::after {align-self: flex-end;width: 50%;}#sk-container-id-2 div.sk-parallel-item:last-child::after {align-self: flex-start;width: 50%;}#sk-container-id-2 div.sk-parallel-item:only-child::after {width: 0;}#sk-container-id-2 div.sk-dashed-wrapped {border: 1px dashed gray;margin: 0 0.4em 0.5em 0.4em;box-sizing: border-box;padding-bottom: 0.4em;background-color: white;}#sk-container-id-2 div.sk-label label {font-family: monospace;font-weight: bold;display: inline-block;line-height: 1.2em;}#sk-container-id-2 div.sk-label-container {text-align: center;}#sk-container-id-2 div.sk-container {/* jupyter's `normalize.less` sets `[hidden] { display: none; }` but bootstrap.min.css set `[hidden] { display: none !important; }` so we also need the `!important` here to be able to override the default hidden behavior on the sphinx rendered scikit-learn.org. See: https://github.com/scikit-learn/scikit-learn/issues/21755 */display: inline-block !important;position: relative;}#sk-container-id-2 div.sk-text-repr-fallback {display: none;}</style><div id=\"sk-container-id-2\" class=\"sk-top-container\"><div class=\"sk-text-repr-fallback\"><pre>LogisticRegression()</pre><b>In a Jupyter environment, please rerun this cell to show the HTML representation or trust the notebook. <br />On GitHub, the HTML representation is unable to render, please try loading this page with nbviewer.org.</b></div><div class=\"sk-container\" hidden><div class=\"sk-item\"><div class=\"sk-estimator sk-toggleable\"><input class=\"sk-toggleable__control sk-hidden--visually\" id=\"sk-estimator-id-2\" type=\"checkbox\" checked><label for=\"sk-estimator-id-2\" class=\"sk-toggleable__label sk-toggleable__label-arrow\">LogisticRegression</label><div class=\"sk-toggleable__content\"><pre>LogisticRegression()</pre></div></div></div></div></div>"
      ],
      "text/plain": [
       "LogisticRegression()"
      ]
     },
     "execution_count": 19,
     "metadata": {},
     "output_type": "execute_result"
    }
   ],
   "source": [
    "model_.fit(X_train, y_train)"
   ]
  },
  {
   "cell_type": "code",
   "execution_count": 20,
   "id": "5402f4ae",
   "metadata": {
    "execution": {
     "iopub.execute_input": "2024-12-17T08:08:03.884311Z",
     "iopub.status.busy": "2024-12-17T08:08:03.883571Z",
     "iopub.status.idle": "2024-12-17T08:08:03.888497Z",
     "shell.execute_reply": "2024-12-17T08:08:03.887565Z"
    },
    "papermill": {
     "duration": 0.030274,
     "end_time": "2024-12-17T08:08:03.891606",
     "exception": false,
     "start_time": "2024-12-17T08:08:03.861332",
     "status": "completed"
    },
    "tags": []
   },
   "outputs": [],
   "source": [
    "pred_ = model_.predict(X_test)"
   ]
  },
  {
   "cell_type": "code",
   "execution_count": 21,
   "id": "2ab79286",
   "metadata": {
    "execution": {
     "iopub.execute_input": "2024-12-17T08:08:03.936592Z",
     "iopub.status.busy": "2024-12-17T08:08:03.936154Z",
     "iopub.status.idle": "2024-12-17T08:08:03.944468Z",
     "shell.execute_reply": "2024-12-17T08:08:03.943489Z"
    },
    "papermill": {
     "duration": 0.034124,
     "end_time": "2024-12-17T08:08:03.947537",
     "exception": false,
     "start_time": "2024-12-17T08:08:03.913413",
     "status": "completed"
    },
    "tags": []
   },
   "outputs": [],
   "source": [
    "accuarcy = accuracy_score(pred_, y_test)"
   ]
  },
  {
   "cell_type": "code",
   "execution_count": 22,
   "id": "0d9084d5",
   "metadata": {
    "execution": {
     "iopub.execute_input": "2024-12-17T08:08:03.972624Z",
     "iopub.status.busy": "2024-12-17T08:08:03.972119Z",
     "iopub.status.idle": "2024-12-17T08:08:03.977084Z",
     "shell.execute_reply": "2024-12-17T08:08:03.976312Z"
    },
    "papermill": {
     "duration": 0.014362,
     "end_time": "2024-12-17T08:08:03.978680",
     "exception": false,
     "start_time": "2024-12-17T08:08:03.964318",
     "status": "completed"
    },
    "tags": []
   },
   "outputs": [
    {
     "data": {
      "text/plain": [
       "96.49122807017544"
      ]
     },
     "execution_count": 22,
     "metadata": {},
     "output_type": "execute_result"
    }
   ],
   "source": [
    "accuarcy*100"
   ]
  },
  {
   "cell_type": "code",
   "execution_count": 23,
   "id": "19a41f00",
   "metadata": {
    "execution": {
     "iopub.execute_input": "2024-12-17T08:08:03.994128Z",
     "iopub.status.busy": "2024-12-17T08:08:03.993508Z",
     "iopub.status.idle": "2024-12-17T08:08:03.996840Z",
     "shell.execute_reply": "2024-12-17T08:08:03.996242Z"
    },
    "papermill": {
     "duration": 0.012719,
     "end_time": "2024-12-17T08:08:03.998384",
     "exception": false,
     "start_time": "2024-12-17T08:08:03.985665",
     "status": "completed"
    },
    "tags": []
   },
   "outputs": [],
   "source": [
    "from sklearn.neighbors import KNeighborsClassifier"
   ]
  },
  {
   "cell_type": "code",
   "execution_count": 24,
   "id": "9a39b756",
   "metadata": {
    "execution": {
     "iopub.execute_input": "2024-12-17T08:08:04.013327Z",
     "iopub.status.busy": "2024-12-17T08:08:04.013115Z",
     "iopub.status.idle": "2024-12-17T08:08:04.016302Z",
     "shell.execute_reply": "2024-12-17T08:08:04.015615Z"
    },
    "papermill": {
     "duration": 0.012368,
     "end_time": "2024-12-17T08:08:04.017843",
     "exception": false,
     "start_time": "2024-12-17T08:08:04.005475",
     "status": "completed"
    },
    "tags": []
   },
   "outputs": [],
   "source": [
    "knn = KNeighborsClassifier()"
   ]
  },
  {
   "cell_type": "code",
   "execution_count": 25,
   "id": "b855d066",
   "metadata": {
    "execution": {
     "iopub.execute_input": "2024-12-17T08:08:04.032840Z",
     "iopub.status.busy": "2024-12-17T08:08:04.032433Z",
     "iopub.status.idle": "2024-12-17T08:08:04.038661Z",
     "shell.execute_reply": "2024-12-17T08:08:04.037901Z"
    },
    "papermill": {
     "duration": 0.015373,
     "end_time": "2024-12-17T08:08:04.040296",
     "exception": false,
     "start_time": "2024-12-17T08:08:04.024923",
     "status": "completed"
    },
    "tags": []
   },
   "outputs": [
    {
     "data": {
      "text/html": [
       "<style>#sk-container-id-3 {color: black;background-color: white;}#sk-container-id-3 pre{padding: 0;}#sk-container-id-3 div.sk-toggleable {background-color: white;}#sk-container-id-3 label.sk-toggleable__label {cursor: pointer;display: block;width: 100%;margin-bottom: 0;padding: 0.3em;box-sizing: border-box;text-align: center;}#sk-container-id-3 label.sk-toggleable__label-arrow:before {content: \"▸\";float: left;margin-right: 0.25em;color: #696969;}#sk-container-id-3 label.sk-toggleable__label-arrow:hover:before {color: black;}#sk-container-id-3 div.sk-estimator:hover label.sk-toggleable__label-arrow:before {color: black;}#sk-container-id-3 div.sk-toggleable__content {max-height: 0;max-width: 0;overflow: hidden;text-align: left;background-color: #f0f8ff;}#sk-container-id-3 div.sk-toggleable__content pre {margin: 0.2em;color: black;border-radius: 0.25em;background-color: #f0f8ff;}#sk-container-id-3 input.sk-toggleable__control:checked~div.sk-toggleable__content {max-height: 200px;max-width: 100%;overflow: auto;}#sk-container-id-3 input.sk-toggleable__control:checked~label.sk-toggleable__label-arrow:before {content: \"▾\";}#sk-container-id-3 div.sk-estimator input.sk-toggleable__control:checked~label.sk-toggleable__label {background-color: #d4ebff;}#sk-container-id-3 div.sk-label input.sk-toggleable__control:checked~label.sk-toggleable__label {background-color: #d4ebff;}#sk-container-id-3 input.sk-hidden--visually {border: 0;clip: rect(1px 1px 1px 1px);clip: rect(1px, 1px, 1px, 1px);height: 1px;margin: -1px;overflow: hidden;padding: 0;position: absolute;width: 1px;}#sk-container-id-3 div.sk-estimator {font-family: monospace;background-color: #f0f8ff;border: 1px dotted black;border-radius: 0.25em;box-sizing: border-box;margin-bottom: 0.5em;}#sk-container-id-3 div.sk-estimator:hover {background-color: #d4ebff;}#sk-container-id-3 div.sk-parallel-item::after {content: \"\";width: 100%;border-bottom: 1px solid gray;flex-grow: 1;}#sk-container-id-3 div.sk-label:hover label.sk-toggleable__label {background-color: #d4ebff;}#sk-container-id-3 div.sk-serial::before {content: \"\";position: absolute;border-left: 1px solid gray;box-sizing: border-box;top: 0;bottom: 0;left: 50%;z-index: 0;}#sk-container-id-3 div.sk-serial {display: flex;flex-direction: column;align-items: center;background-color: white;padding-right: 0.2em;padding-left: 0.2em;position: relative;}#sk-container-id-3 div.sk-item {position: relative;z-index: 1;}#sk-container-id-3 div.sk-parallel {display: flex;align-items: stretch;justify-content: center;background-color: white;position: relative;}#sk-container-id-3 div.sk-item::before, #sk-container-id-3 div.sk-parallel-item::before {content: \"\";position: absolute;border-left: 1px solid gray;box-sizing: border-box;top: 0;bottom: 0;left: 50%;z-index: -1;}#sk-container-id-3 div.sk-parallel-item {display: flex;flex-direction: column;z-index: 1;position: relative;background-color: white;}#sk-container-id-3 div.sk-parallel-item:first-child::after {align-self: flex-end;width: 50%;}#sk-container-id-3 div.sk-parallel-item:last-child::after {align-self: flex-start;width: 50%;}#sk-container-id-3 div.sk-parallel-item:only-child::after {width: 0;}#sk-container-id-3 div.sk-dashed-wrapped {border: 1px dashed gray;margin: 0 0.4em 0.5em 0.4em;box-sizing: border-box;padding-bottom: 0.4em;background-color: white;}#sk-container-id-3 div.sk-label label {font-family: monospace;font-weight: bold;display: inline-block;line-height: 1.2em;}#sk-container-id-3 div.sk-label-container {text-align: center;}#sk-container-id-3 div.sk-container {/* jupyter's `normalize.less` sets `[hidden] { display: none; }` but bootstrap.min.css set `[hidden] { display: none !important; }` so we also need the `!important` here to be able to override the default hidden behavior on the sphinx rendered scikit-learn.org. See: https://github.com/scikit-learn/scikit-learn/issues/21755 */display: inline-block !important;position: relative;}#sk-container-id-3 div.sk-text-repr-fallback {display: none;}</style><div id=\"sk-container-id-3\" class=\"sk-top-container\"><div class=\"sk-text-repr-fallback\"><pre>KNeighborsClassifier()</pre><b>In a Jupyter environment, please rerun this cell to show the HTML representation or trust the notebook. <br />On GitHub, the HTML representation is unable to render, please try loading this page with nbviewer.org.</b></div><div class=\"sk-container\" hidden><div class=\"sk-item\"><div class=\"sk-estimator sk-toggleable\"><input class=\"sk-toggleable__control sk-hidden--visually\" id=\"sk-estimator-id-3\" type=\"checkbox\" checked><label for=\"sk-estimator-id-3\" class=\"sk-toggleable__label sk-toggleable__label-arrow\">KNeighborsClassifier</label><div class=\"sk-toggleable__content\"><pre>KNeighborsClassifier()</pre></div></div></div></div></div>"
      ],
      "text/plain": [
       "KNeighborsClassifier()"
      ]
     },
     "execution_count": 25,
     "metadata": {},
     "output_type": "execute_result"
    }
   ],
   "source": [
    "knn.fit(X_train, y_train)"
   ]
  },
  {
   "cell_type": "code",
   "execution_count": 26,
   "id": "b22746a8",
   "metadata": {
    "execution": {
     "iopub.execute_input": "2024-12-17T08:08:04.055820Z",
     "iopub.status.busy": "2024-12-17T08:08:04.055563Z",
     "iopub.status.idle": "2024-12-17T08:08:04.066366Z",
     "shell.execute_reply": "2024-12-17T08:08:04.065755Z"
    },
    "papermill": {
     "duration": 0.020377,
     "end_time": "2024-12-17T08:08:04.067973",
     "exception": false,
     "start_time": "2024-12-17T08:08:04.047596",
     "status": "completed"
    },
    "tags": []
   },
   "outputs": [],
   "source": [
    "pred_knn = knn.predict(X_test)"
   ]
  },
  {
   "cell_type": "code",
   "execution_count": 27,
   "id": "15b98a2f",
   "metadata": {
    "execution": {
     "iopub.execute_input": "2024-12-17T08:08:04.085124Z",
     "iopub.status.busy": "2024-12-17T08:08:04.084888Z",
     "iopub.status.idle": "2024-12-17T08:08:04.088331Z",
     "shell.execute_reply": "2024-12-17T08:08:04.087527Z"
    },
    "papermill": {
     "duration": 0.013281,
     "end_time": "2024-12-17T08:08:04.089861",
     "exception": false,
     "start_time": "2024-12-17T08:08:04.076580",
     "status": "completed"
    },
    "tags": []
   },
   "outputs": [],
   "source": [
    "from sklearn.metrics import accuracy_score"
   ]
  },
  {
   "cell_type": "code",
   "execution_count": 28,
   "id": "d687039f",
   "metadata": {
    "execution": {
     "iopub.execute_input": "2024-12-17T08:08:04.104897Z",
     "iopub.status.busy": "2024-12-17T08:08:04.104633Z",
     "iopub.status.idle": "2024-12-17T08:08:04.108729Z",
     "shell.execute_reply": "2024-12-17T08:08:04.107906Z"
    },
    "papermill": {
     "duration": 0.013294,
     "end_time": "2024-12-17T08:08:04.110275",
     "exception": false,
     "start_time": "2024-12-17T08:08:04.096981",
     "status": "completed"
    },
    "tags": []
   },
   "outputs": [],
   "source": [
    "Accuarcy = accuracy_score(pred_knn, y_test)"
   ]
  },
  {
   "cell_type": "code",
   "execution_count": 29,
   "id": "47c57f56",
   "metadata": {
    "execution": {
     "iopub.execute_input": "2024-12-17T08:08:04.125934Z",
     "iopub.status.busy": "2024-12-17T08:08:04.125199Z",
     "iopub.status.idle": "2024-12-17T08:08:04.130189Z",
     "shell.execute_reply": "2024-12-17T08:08:04.129418Z"
    },
    "papermill": {
     "duration": 0.014457,
     "end_time": "2024-12-17T08:08:04.131933",
     "exception": false,
     "start_time": "2024-12-17T08:08:04.117476",
     "status": "completed"
    },
    "tags": []
   },
   "outputs": [
    {
     "data": {
      "text/plain": [
       "0.956140350877193"
      ]
     },
     "execution_count": 29,
     "metadata": {},
     "output_type": "execute_result"
    }
   ],
   "source": [
    "Accuarcy"
   ]
  },
  {
   "cell_type": "code",
   "execution_count": 30,
   "id": "0bea4171",
   "metadata": {
    "execution": {
     "iopub.execute_input": "2024-12-17T08:08:04.147532Z",
     "iopub.status.busy": "2024-12-17T08:08:04.146988Z",
     "iopub.status.idle": "2024-12-17T08:08:04.150533Z",
     "shell.execute_reply": "2024-12-17T08:08:04.149918Z"
    },
    "papermill": {
     "duration": 0.012836,
     "end_time": "2024-12-17T08:08:04.152013",
     "exception": false,
     "start_time": "2024-12-17T08:08:04.139177",
     "status": "completed"
    },
    "tags": []
   },
   "outputs": [],
   "source": [
    "from sklearn.metrics import confusion_matrix, ConfusionMatrixDisplay"
   ]
  },
  {
   "cell_type": "code",
   "execution_count": 31,
   "id": "777cd9f7",
   "metadata": {
    "execution": {
     "iopub.execute_input": "2024-12-17T08:08:04.167331Z",
     "iopub.status.busy": "2024-12-17T08:08:04.167093Z",
     "iopub.status.idle": "2024-12-17T08:08:04.369242Z",
     "shell.execute_reply": "2024-12-17T08:08:04.368272Z"
    },
    "papermill": {
     "duration": 0.212909,
     "end_time": "2024-12-17T08:08:04.372234",
     "exception": false,
     "start_time": "2024-12-17T08:08:04.159325",
     "status": "completed"
    },
    "tags": []
   },
   "outputs": [
    {
     "name": "stdout",
     "output_type": "stream",
     "text": [
      "Confusion Matrix:\n",
      "[[38  5]\n",
      " [ 0 71]]\n"
     ]
    },
    {
     "data": {
      "text/plain": [
       "<sklearn.metrics._plot.confusion_matrix.ConfusionMatrixDisplay at 0x7a12adca7df0>"
      ]
     },
     "execution_count": 31,
     "metadata": {},
     "output_type": "execute_result"
    },
    {
     "data": {
      "image/png": "[encoded data removed]",
      "text/plain": [
       "<Figure size 640x480 with 2 Axes>"
      ]
     },
     "metadata": {},
     "output_type": "display_data"
    }
   ],
   "source": [
    "cm = confusion_matrix(y_test, pred_knn)\n",
    "\n",
    "# Display Confusion Matrix\n",
    "print(\"Confusion Matrix:\")\n",
    "print(cm)\n",
    "\n",
    "# Visualize Confusion Matrix\n",
    "disp = ConfusionMatrixDisplay(confusion_matrix=cm, display_labels=dataset.target_names)\n",
    "disp.plot()"
   ]
  },
  {
   "cell_type": "code",
   "execution_count": 32,
   "id": "a77fc6bc",
   "metadata": {
    "execution": {
     "iopub.execute_input": "2024-12-17T08:08:04.393389Z",
     "iopub.status.busy": "2024-12-17T08:08:04.393159Z",
     "iopub.status.idle": "2024-12-17T08:08:04.636862Z",
     "shell.execute_reply": "2024-12-17T08:08:04.636119Z"
    },
    "papermill": {
     "duration": 0.253719,
     "end_time": "2024-12-17T08:08:04.638533",
     "exception": false,
     "start_time": "2024-12-17T08:08:04.384814",
     "status": "completed"
    },
    "tags": []
   },
   "outputs": [
    {
     "name": "stdout",
     "output_type": "stream",
     "text": [
      "Confusion Matrix:\n",
      "[[40  3]\n",
      " [ 1 70]]\n"
     ]
    },
    {
     "data": {
      "text/plain": [
       "<sklearn.metrics._plot.confusion_matrix.ConfusionMatrixDisplay at 0x7a12d12cb8b0>"
      ]
     },
     "execution_count": 32,
     "metadata": {},
     "output_type": "execute_result"
    },
    {
     "data": {
      "image/png": "[encoded data removed]",
      "text/plain": [
       "<Figure size 640x480 with 2 Axes>"
      ]
     },
     "metadata": {},
     "output_type": "display_data"
    }
   ],
   "source": [
    "cm = confusion_matrix(y_test, pred_)\n",
    "\n",
    "# Display Confusion Matrix\n",
    "print(\"Confusion Matrix:\")\n",
    "print(cm)\n",
    "\n",
    "# Visualize Confusion Matrix\n",
    "disp = ConfusionMatrixDisplay(confusion_matrix=cm, display_labels=dataset.target_names)\n",
    "disp.plot()"
   ]
  },
  {
   "cell_type": "code",
   "execution_count": null,
   "id": "c5a8588e",
   "metadata": {
    "papermill": {
     "duration": 0.008458,
     "end_time": "2024-12-17T08:08:04.655340",
     "exception": false,
     "start_time": "2024-12-17T08:08:04.646882",
     "status": "completed"
    },
    "tags": []
   },
   "outputs": [],
   "source": []
  }
 ],
 "metadata": {
  "kaggle": {
   "accelerator": "nvidiaTeslaT4",
   "dataSources": [],
   "dockerImageVersionId": 30805,
   "isGpuEnabled": true,
   "isInternetEnabled": true,
   "language": "python",
   "sourceType": "notebook"
  },
  "kernelspec": {
   "display_name": "Python 3",
   "language": "python",
   "name": "python3"
  },
  "language_info": {
   "codemirror_mode": {
    "name": "ipython",
    "version": 3
   },
   "file_extension": ".py",
   "mimetype": "text/x-python",
   "name": "python",
   "nbconvert_exporter": "python",
   "pygments_lexer": "ipython3",
   "version": "3.10.14"
  },
  "papermill": {
   "default_parameters": {},
   "duration": 20.524079,
   "end_time": "2024-12-17T08:08:05.281394",
   "environment_variables": {},
   "exception": null,
   "input_path": "__notebook__.ipynb",
   "output_path": "__notebook__.ipynb",
   "parameters": {},
   "start_time": "2024-12-17T08:07:44.757315",
   "version": "2.6.0"
  }
 },
 "nbformat": 4,
 "nbformat_minor": 5
}
