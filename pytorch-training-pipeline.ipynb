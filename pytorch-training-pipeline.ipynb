{
 "cells": [
  {
   "cell_type": "code",
   "execution_count": 1,
   "id": "b7914413",
   "metadata": {
    "execution": {
     "iopub.execute_input": "2024-12-03T04:35:11.800091Z",
     "iopub.status.busy": "2024-12-03T04:35:11.799408Z",
     "iopub.status.idle": "2024-12-03T04:35:16.390908Z",
     "shell.execute_reply": "2024-12-03T04:35:16.389998Z"
    },
    "papermill": {
     "duration": 4.599164,
     "end_time": "2024-12-03T04:35:16.392959",
     "exception": false,
     "start_time": "2024-12-03T04:35:11.793795",
     "status": "completed"
    },
    "tags": []
   },
   "outputs": [],
   "source": [
    "import numpy as np\n",
    "import pandas as pd\n",
    "import torch\n",
    "from sklearn.model_selection import train_test_split\n",
    "from sklearn.preprocessing import StandardScaler\n",
    "from sklearn.preprocessing import LabelEncoder"
   ]
  },
  {
   "cell_type": "code",
   "execution_count": 2,
   "id": "faff12e4",
   "metadata": {
    "execution": {
     "iopub.execute_input": "2024-12-03T04:35:16.404012Z",
     "iopub.status.busy": "2024-12-03T04:35:16.403630Z",
     "iopub.status.idle": "2024-12-03T04:35:16.621244Z",
     "shell.execute_reply": "2024-12-03T04:35:16.620319Z"
    },
    "papermill": {
     "duration": 0.226199,
     "end_time": "2024-12-03T04:35:16.623486",
     "exception": false,
     "start_time": "2024-12-03T04:35:16.397287",
     "status": "completed"
    },
    "tags": []
   },
   "outputs": [
    {
     "data": {
      "text/html": [
       "<div>\n",
       "<style scoped>\n",
       "    .dataframe tbody tr th:only-of-type {\n",
       "        vertical-align: middle;\n",
       "    }\n",
       "\n",
       "    .dataframe tbody tr th {\n",
       "        vertical-align: top;\n",
       "    }\n",
       "\n",
       "    .dataframe thead th {\n",
       "        text-align: right;\n",
       "    }\n",
       "</style>\n",
       "<table border=\"1\" class=\"dataframe\">\n",
       "  <thead>\n",
       "    <tr style=\"text-align: right;\">\n",
       "      <th></th>\n",
       "      <th>id</th>\n",
       "      <th>diagnosis</th>\n",
       "      <th>radius_mean</th>\n",
       "      <th>texture_mean</th>\n",
       "      <th>perimeter_mean</th>\n",
       "      <th>area_mean</th>\n",
       "      <th>smoothness_mean</th>\n",
       "      <th>compactness_mean</th>\n",
       "      <th>concavity_mean</th>\n",
       "      <th>concave points_mean</th>\n",
       "      <th>...</th>\n",
       "      <th>texture_worst</th>\n",
       "      <th>perimeter_worst</th>\n",
       "      <th>area_worst</th>\n",
       "      <th>smoothness_worst</th>\n",
       "      <th>compactness_worst</th>\n",
       "      <th>concavity_worst</th>\n",
       "      <th>concave points_worst</th>\n",
       "      <th>symmetry_worst</th>\n",
       "      <th>fractal_dimension_worst</th>\n",
       "      <th>Unnamed: 32</th>\n",
       "    </tr>\n",
       "  </thead>\n",
       "  <tbody>\n",
       "    <tr>\n",
       "      <th>0</th>\n",
       "      <td>842302</td>\n",
       "      <td>M</td>\n",
       "      <td>17.99</td>\n",
       "      <td>10.38</td>\n",
       "      <td>122.80</td>\n",
       "      <td>1001.0</td>\n",
       "      <td>0.11840</td>\n",
       "      <td>0.27760</td>\n",
       "      <td>0.3001</td>\n",
       "      <td>0.14710</td>\n",
       "      <td>...</td>\n",
       "      <td>17.33</td>\n",
       "      <td>184.60</td>\n",
       "      <td>2019.0</td>\n",
       "      <td>0.1622</td>\n",
       "      <td>0.6656</td>\n",
       "      <td>0.7119</td>\n",
       "      <td>0.2654</td>\n",
       "      <td>0.4601</td>\n",
       "      <td>0.11890</td>\n",
       "      <td>NaN</td>\n",
       "    </tr>\n",
       "    <tr>\n",
       "      <th>1</th>\n",
       "      <td>842517</td>\n",
       "      <td>M</td>\n",
       "      <td>20.57</td>\n",
       "      <td>17.77</td>\n",
       "      <td>132.90</td>\n",
       "      <td>1326.0</td>\n",
       "      <td>0.08474</td>\n",
       "      <td>0.07864</td>\n",
       "      <td>0.0869</td>\n",
       "      <td>0.07017</td>\n",
       "      <td>...</td>\n",
       "      <td>23.41</td>\n",
       "      <td>158.80</td>\n",
       "      <td>1956.0</td>\n",
       "      <td>0.1238</td>\n",
       "      <td>0.1866</td>\n",
       "      <td>0.2416</td>\n",
       "      <td>0.1860</td>\n",
       "      <td>0.2750</td>\n",
       "      <td>0.08902</td>\n",
       "      <td>NaN</td>\n",
       "    </tr>\n",
       "    <tr>\n",
       "      <th>2</th>\n",
       "      <td>84300903</td>\n",
       "      <td>M</td>\n",
       "      <td>19.69</td>\n",
       "      <td>21.25</td>\n",
       "      <td>130.00</td>\n",
       "      <td>1203.0</td>\n",
       "      <td>0.10960</td>\n",
       "      <td>0.15990</td>\n",
       "      <td>0.1974</td>\n",
       "      <td>0.12790</td>\n",
       "      <td>...</td>\n",
       "      <td>25.53</td>\n",
       "      <td>152.50</td>\n",
       "      <td>1709.0</td>\n",
       "      <td>0.1444</td>\n",
       "      <td>0.4245</td>\n",
       "      <td>0.4504</td>\n",
       "      <td>0.2430</td>\n",
       "      <td>0.3613</td>\n",
       "      <td>0.08758</td>\n",
       "      <td>NaN</td>\n",
       "    </tr>\n",
       "    <tr>\n",
       "      <th>3</th>\n",
       "      <td>84348301</td>\n",
       "      <td>M</td>\n",
       "      <td>11.42</td>\n",
       "      <td>20.38</td>\n",
       "      <td>77.58</td>\n",
       "      <td>386.1</td>\n",
       "      <td>0.14250</td>\n",
       "      <td>0.28390</td>\n",
       "      <td>0.2414</td>\n",
       "      <td>0.10520</td>\n",
       "      <td>...</td>\n",
       "      <td>26.50</td>\n",
       "      <td>98.87</td>\n",
       "      <td>567.7</td>\n",
       "      <td>0.2098</td>\n",
       "      <td>0.8663</td>\n",
       "      <td>0.6869</td>\n",
       "      <td>0.2575</td>\n",
       "      <td>0.6638</td>\n",
       "      <td>0.17300</td>\n",
       "      <td>NaN</td>\n",
       "    </tr>\n",
       "    <tr>\n",
       "      <th>4</th>\n",
       "      <td>84358402</td>\n",
       "      <td>M</td>\n",
       "      <td>20.29</td>\n",
       "      <td>14.34</td>\n",
       "      <td>135.10</td>\n",
       "      <td>1297.0</td>\n",
       "      <td>0.10030</td>\n",
       "      <td>0.13280</td>\n",
       "      <td>0.1980</td>\n",
       "      <td>0.10430</td>\n",
       "      <td>...</td>\n",
       "      <td>16.67</td>\n",
       "      <td>152.20</td>\n",
       "      <td>1575.0</td>\n",
       "      <td>0.1374</td>\n",
       "      <td>0.2050</td>\n",
       "      <td>0.4000</td>\n",
       "      <td>0.1625</td>\n",
       "      <td>0.2364</td>\n",
       "      <td>0.07678</td>\n",
       "      <td>NaN</td>\n",
       "    </tr>\n",
       "  </tbody>\n",
       "</table>\n",
       "<p>5 rows × 33 columns</p>\n",
       "</div>"
      ],
      "text/plain": [
       "         id diagnosis  radius_mean  texture_mean  perimeter_mean  area_mean  \\\n",
       "0    842302         M        17.99         10.38          122.80     1001.0   \n",
       "1    842517         M        20.57         17.77          132.90     1326.0   \n",
       "2  84300903         M        19.69         21.25          130.00     1203.0   \n",
       "3  84348301         M        11.42         20.38           77.58      386.1   \n",
       "4  84358402         M        20.29         14.34          135.10     1297.0   \n",
       "\n",
       "   smoothness_mean  compactness_mean  concavity_mean  concave points_mean  \\\n",
       "0          0.11840           0.27760          0.3001              0.14710   \n",
       "1          0.08474           0.07864          0.0869              0.07017   \n",
       "2          0.10960           0.15990          0.1974              0.12790   \n",
       "3          0.14250           0.28390          0.2414              0.10520   \n",
       "4          0.10030           0.13280          0.1980              0.10430   \n",
       "\n",
       "   ...  texture_worst  perimeter_worst  area_worst  smoothness_worst  \\\n",
       "0  ...          17.33           184.60      2019.0            0.1622   \n",
       "1  ...          23.41           158.80      1956.0            0.1238   \n",
       "2  ...          25.53           152.50      1709.0            0.1444   \n",
       "3  ...          26.50            98.87       567.7            0.2098   \n",
       "4  ...          16.67           152.20      1575.0            0.1374   \n",
       "\n",
       "   compactness_worst  concavity_worst  concave points_worst  symmetry_worst  \\\n",
       "0             0.6656           0.7119                0.2654          0.4601   \n",
       "1             0.1866           0.2416                0.1860          0.2750   \n",
       "2             0.4245           0.4504                0.2430          0.3613   \n",
       "3             0.8663           0.6869                0.2575          0.6638   \n",
       "4             0.2050           0.4000                0.1625          0.2364   \n",
       "\n",
       "   fractal_dimension_worst  Unnamed: 32  \n",
       "0                  0.11890          NaN  \n",
       "1                  0.08902          NaN  \n",
       "2                  0.08758          NaN  \n",
       "3                  0.17300          NaN  \n",
       "4                  0.07678          NaN  \n",
       "\n",
       "[5 rows x 33 columns]"
      ]
     },
     "execution_count": 2,
     "metadata": {},
     "output_type": "execute_result"
    }
   ],
   "source": [
    "df = pd.read_csv('https://raw.githubusercontent.com/gscdit/Breast-Cancer-Detection/refs/heads/master/data.csv')\n",
    "df.head()"
   ]
  },
  {
   "cell_type": "code",
   "execution_count": 3,
   "id": "14e57069",
   "metadata": {
    "execution": {
     "iopub.execute_input": "2024-12-03T04:35:16.633458Z",
     "iopub.status.busy": "2024-12-03T04:35:16.633166Z",
     "iopub.status.idle": "2024-12-03T04:35:16.637951Z",
     "shell.execute_reply": "2024-12-03T04:35:16.637192Z"
    },
    "papermill": {
     "duration": 0.011818,
     "end_time": "2024-12-03T04:35:16.639531",
     "exception": false,
     "start_time": "2024-12-03T04:35:16.627713",
     "status": "completed"
    },
    "tags": []
   },
   "outputs": [
    {
     "data": {
      "text/plain": [
       "(569, 33)"
      ]
     },
     "execution_count": 3,
     "metadata": {},
     "output_type": "execute_result"
    }
   ],
   "source": [
    "df.shape"
   ]
  },
  {
   "cell_type": "code",
   "execution_count": 4,
   "id": "9115b568",
   "metadata": {
    "execution": {
     "iopub.execute_input": "2024-12-03T04:35:16.648649Z",
     "iopub.status.busy": "2024-12-03T04:35:16.648414Z",
     "iopub.status.idle": "2024-12-03T04:35:16.652774Z",
     "shell.execute_reply": "2024-12-03T04:35:16.652040Z"
    },
    "papermill": {
     "duration": 0.010891,
     "end_time": "2024-12-03T04:35:16.654608",
     "exception": false,
     "start_time": "2024-12-03T04:35:16.643717",
     "status": "completed"
    },
    "tags": []
   },
   "outputs": [],
   "source": [
    "df.drop(columns=['id', 'Unnamed: 32'], inplace= True)"
   ]
  },
  {
   "cell_type": "code",
   "execution_count": 5,
   "id": "eded85d8",
   "metadata": {
    "execution": {
     "iopub.execute_input": "2024-12-03T04:35:16.663965Z",
     "iopub.status.busy": "2024-12-03T04:35:16.663399Z",
     "iopub.status.idle": "2024-12-03T04:35:16.681919Z",
     "shell.execute_reply": "2024-12-03T04:35:16.681156Z"
    },
    "papermill": {
     "duration": 0.025035,
     "end_time": "2024-12-03T04:35:16.683657",
     "exception": false,
     "start_time": "2024-12-03T04:35:16.658622",
     "status": "completed"
    },
    "tags": []
   },
   "outputs": [
    {
     "data": {
      "text/html": [
       "<div>\n",
       "<style scoped>\n",
       "    .dataframe tbody tr th:only-of-type {\n",
       "        vertical-align: middle;\n",
       "    }\n",
       "\n",
       "    .dataframe tbody tr th {\n",
       "        vertical-align: top;\n",
       "    }\n",
       "\n",
       "    .dataframe thead th {\n",
       "        text-align: right;\n",
       "    }\n",
       "</style>\n",
       "<table border=\"1\" class=\"dataframe\">\n",
       "  <thead>\n",
       "    <tr style=\"text-align: right;\">\n",
       "      <th></th>\n",
       "      <th>diagnosis</th>\n",
       "      <th>radius_mean</th>\n",
       "      <th>texture_mean</th>\n",
       "      <th>perimeter_mean</th>\n",
       "      <th>area_mean</th>\n",
       "      <th>smoothness_mean</th>\n",
       "      <th>compactness_mean</th>\n",
       "      <th>concavity_mean</th>\n",
       "      <th>concave points_mean</th>\n",
       "      <th>symmetry_mean</th>\n",
       "      <th>...</th>\n",
       "      <th>radius_worst</th>\n",
       "      <th>texture_worst</th>\n",
       "      <th>perimeter_worst</th>\n",
       "      <th>area_worst</th>\n",
       "      <th>smoothness_worst</th>\n",
       "      <th>compactness_worst</th>\n",
       "      <th>concavity_worst</th>\n",
       "      <th>concave points_worst</th>\n",
       "      <th>symmetry_worst</th>\n",
       "      <th>fractal_dimension_worst</th>\n",
       "    </tr>\n",
       "  </thead>\n",
       "  <tbody>\n",
       "    <tr>\n",
       "      <th>0</th>\n",
       "      <td>M</td>\n",
       "      <td>17.99</td>\n",
       "      <td>10.38</td>\n",
       "      <td>122.80</td>\n",
       "      <td>1001.0</td>\n",
       "      <td>0.11840</td>\n",
       "      <td>0.27760</td>\n",
       "      <td>0.3001</td>\n",
       "      <td>0.14710</td>\n",
       "      <td>0.2419</td>\n",
       "      <td>...</td>\n",
       "      <td>25.38</td>\n",
       "      <td>17.33</td>\n",
       "      <td>184.60</td>\n",
       "      <td>2019.0</td>\n",
       "      <td>0.1622</td>\n",
       "      <td>0.6656</td>\n",
       "      <td>0.7119</td>\n",
       "      <td>0.2654</td>\n",
       "      <td>0.4601</td>\n",
       "      <td>0.11890</td>\n",
       "    </tr>\n",
       "    <tr>\n",
       "      <th>1</th>\n",
       "      <td>M</td>\n",
       "      <td>20.57</td>\n",
       "      <td>17.77</td>\n",
       "      <td>132.90</td>\n",
       "      <td>1326.0</td>\n",
       "      <td>0.08474</td>\n",
       "      <td>0.07864</td>\n",
       "      <td>0.0869</td>\n",
       "      <td>0.07017</td>\n",
       "      <td>0.1812</td>\n",
       "      <td>...</td>\n",
       "      <td>24.99</td>\n",
       "      <td>23.41</td>\n",
       "      <td>158.80</td>\n",
       "      <td>1956.0</td>\n",
       "      <td>0.1238</td>\n",
       "      <td>0.1866</td>\n",
       "      <td>0.2416</td>\n",
       "      <td>0.1860</td>\n",
       "      <td>0.2750</td>\n",
       "      <td>0.08902</td>\n",
       "    </tr>\n",
       "    <tr>\n",
       "      <th>2</th>\n",
       "      <td>M</td>\n",
       "      <td>19.69</td>\n",
       "      <td>21.25</td>\n",
       "      <td>130.00</td>\n",
       "      <td>1203.0</td>\n",
       "      <td>0.10960</td>\n",
       "      <td>0.15990</td>\n",
       "      <td>0.1974</td>\n",
       "      <td>0.12790</td>\n",
       "      <td>0.2069</td>\n",
       "      <td>...</td>\n",
       "      <td>23.57</td>\n",
       "      <td>25.53</td>\n",
       "      <td>152.50</td>\n",
       "      <td>1709.0</td>\n",
       "      <td>0.1444</td>\n",
       "      <td>0.4245</td>\n",
       "      <td>0.4504</td>\n",
       "      <td>0.2430</td>\n",
       "      <td>0.3613</td>\n",
       "      <td>0.08758</td>\n",
       "    </tr>\n",
       "    <tr>\n",
       "      <th>3</th>\n",
       "      <td>M</td>\n",
       "      <td>11.42</td>\n",
       "      <td>20.38</td>\n",
       "      <td>77.58</td>\n",
       "      <td>386.1</td>\n",
       "      <td>0.14250</td>\n",
       "      <td>0.28390</td>\n",
       "      <td>0.2414</td>\n",
       "      <td>0.10520</td>\n",
       "      <td>0.2597</td>\n",
       "      <td>...</td>\n",
       "      <td>14.91</td>\n",
       "      <td>26.50</td>\n",
       "      <td>98.87</td>\n",
       "      <td>567.7</td>\n",
       "      <td>0.2098</td>\n",
       "      <td>0.8663</td>\n",
       "      <td>0.6869</td>\n",
       "      <td>0.2575</td>\n",
       "      <td>0.6638</td>\n",
       "      <td>0.17300</td>\n",
       "    </tr>\n",
       "    <tr>\n",
       "      <th>4</th>\n",
       "      <td>M</td>\n",
       "      <td>20.29</td>\n",
       "      <td>14.34</td>\n",
       "      <td>135.10</td>\n",
       "      <td>1297.0</td>\n",
       "      <td>0.10030</td>\n",
       "      <td>0.13280</td>\n",
       "      <td>0.1980</td>\n",
       "      <td>0.10430</td>\n",
       "      <td>0.1809</td>\n",
       "      <td>...</td>\n",
       "      <td>22.54</td>\n",
       "      <td>16.67</td>\n",
       "      <td>152.20</td>\n",
       "      <td>1575.0</td>\n",
       "      <td>0.1374</td>\n",
       "      <td>0.2050</td>\n",
       "      <td>0.4000</td>\n",
       "      <td>0.1625</td>\n",
       "      <td>0.2364</td>\n",
       "      <td>0.07678</td>\n",
       "    </tr>\n",
       "  </tbody>\n",
       "</table>\n",
       "<p>5 rows × 31 columns</p>\n",
       "</div>"
      ],
      "text/plain": [
       "  diagnosis  radius_mean  texture_mean  perimeter_mean  area_mean  \\\n",
       "0         M        17.99         10.38          122.80     1001.0   \n",
       "1         M        20.57         17.77          132.90     1326.0   \n",
       "2         M        19.69         21.25          130.00     1203.0   \n",
       "3         M        11.42         20.38           77.58      386.1   \n",
       "4         M        20.29         14.34          135.10     1297.0   \n",
       "\n",
       "   smoothness_mean  compactness_mean  concavity_mean  concave points_mean  \\\n",
       "0          0.11840           0.27760          0.3001              0.14710   \n",
       "1          0.08474           0.07864          0.0869              0.07017   \n",
       "2          0.10960           0.15990          0.1974              0.12790   \n",
       "3          0.14250           0.28390          0.2414              0.10520   \n",
       "4          0.10030           0.13280          0.1980              0.10430   \n",
       "\n",
       "   symmetry_mean  ...  radius_worst  texture_worst  perimeter_worst  \\\n",
       "0         0.2419  ...         25.38          17.33           184.60   \n",
       "1         0.1812  ...         24.99          23.41           158.80   \n",
       "2         0.2069  ...         23.57          25.53           152.50   \n",
       "3         0.2597  ...         14.91          26.50            98.87   \n",
       "4         0.1809  ...         22.54          16.67           152.20   \n",
       "\n",
       "   area_worst  smoothness_worst  compactness_worst  concavity_worst  \\\n",
       "0      2019.0            0.1622             0.6656           0.7119   \n",
       "1      1956.0            0.1238             0.1866           0.2416   \n",
       "2      1709.0            0.1444             0.4245           0.4504   \n",
       "3       567.7            0.2098             0.8663           0.6869   \n",
       "4      1575.0            0.1374             0.2050           0.4000   \n",
       "\n",
       "   concave points_worst  symmetry_worst  fractal_dimension_worst  \n",
       "0                0.2654          0.4601                  0.11890  \n",
       "1                0.1860          0.2750                  0.08902  \n",
       "2                0.2430          0.3613                  0.08758  \n",
       "3                0.2575          0.6638                  0.17300  \n",
       "4                0.1625          0.2364                  0.07678  \n",
       "\n",
       "[5 rows x 31 columns]"
      ]
     },
     "execution_count": 5,
     "metadata": {},
     "output_type": "execute_result"
    }
   ],
   "source": [
    "df.head()"
   ]
  },
  {
   "cell_type": "code",
   "execution_count": 6,
   "id": "ff2bc3d5",
   "metadata": {
    "execution": {
     "iopub.execute_input": "2024-12-03T04:35:16.693330Z",
     "iopub.status.busy": "2024-12-03T04:35:16.693098Z",
     "iopub.status.idle": "2024-12-03T04:35:16.699939Z",
     "shell.execute_reply": "2024-12-03T04:35:16.699375Z"
    },
    "papermill": {
     "duration": 0.013576,
     "end_time": "2024-12-03T04:35:16.701564",
     "exception": false,
     "start_time": "2024-12-03T04:35:16.687988",
     "status": "completed"
    },
    "tags": []
   },
   "outputs": [],
   "source": [
    "X_train, X_test, y_train, y_test = train_test_split(df.iloc[:, 1:], df.iloc[:, 0], test_size=0.2)"
   ]
  },
  {
   "cell_type": "markdown",
   "id": "cb6bd0cb",
   "metadata": {
    "papermill": {
     "duration": 0.004026,
     "end_time": "2024-12-03T04:35:16.710189",
     "exception": false,
     "start_time": "2024-12-03T04:35:16.706163",
     "status": "completed"
    },
    "tags": []
   },
   "source": [
    "# StandardScale for data to NN"
   ]
  },
  {
   "cell_type": "code",
   "execution_count": 7,
   "id": "de3e5e50",
   "metadata": {
    "execution": {
     "iopub.execute_input": "2024-12-03T04:35:16.719992Z",
     "iopub.status.busy": "2024-12-03T04:35:16.719570Z",
     "iopub.status.idle": "2024-12-03T04:35:16.728009Z",
     "shell.execute_reply": "2024-12-03T04:35:16.727468Z"
    },
    "papermill": {
     "duration": 0.014894,
     "end_time": "2024-12-03T04:35:16.729558",
     "exception": false,
     "start_time": "2024-12-03T04:35:16.714664",
     "status": "completed"
    },
    "tags": []
   },
   "outputs": [],
   "source": [
    "scaler = StandardScaler()\n",
    "X_train = scaler.fit_transform(X_train)\n",
    "X_test = scaler.transform(X_test)"
   ]
  },
  {
   "cell_type": "code",
   "execution_count": 8,
   "id": "b5a23841",
   "metadata": {
    "execution": {
     "iopub.execute_input": "2024-12-03T04:35:16.739276Z",
     "iopub.status.busy": "2024-12-03T04:35:16.738691Z",
     "iopub.status.idle": "2024-12-03T04:35:16.743867Z",
     "shell.execute_reply": "2024-12-03T04:35:16.743120Z"
    },
    "papermill": {
     "duration": 0.011517,
     "end_time": "2024-12-03T04:35:16.745534",
     "exception": false,
     "start_time": "2024-12-03T04:35:16.734017",
     "status": "completed"
    },
    "tags": []
   },
   "outputs": [
    {
     "data": {
      "text/plain": [
       "array([[-0.14065685, -0.95305949, -0.16142524, ..., -0.15035185,\n",
       "         0.76450376,  0.7038745 ],\n",
       "       [ 0.29474947,  2.59291022,  0.44917581, ...,  1.80888189,\n",
       "         1.90030887,  3.20793212],\n",
       "       [-0.58443637, -1.34501865, -0.58275208, ..., -0.62390858,\n",
       "        -0.21597757, -0.18818197],\n",
       "       ...,\n",
       "       [ 1.65399869,  1.04341085,  1.71234917, ...,  1.15730877,\n",
       "         0.61403386,  0.6088193 ],\n",
       "       [ 0.83063417, -0.66653964,  0.95767371, ...,  2.10081073,\n",
       "         1.86309588,  1.23933336],\n",
       "       [-0.67654156, -1.21207344, -0.72763362, ..., -0.48892911,\n",
       "         0.30176835, -0.95537303]])"
      ]
     },
     "execution_count": 8,
     "metadata": {},
     "output_type": "execute_result"
    }
   ],
   "source": [
    "X_train"
   ]
  },
  {
   "cell_type": "code",
   "execution_count": 9,
   "id": "0847ad5d",
   "metadata": {
    "execution": {
     "iopub.execute_input": "2024-12-03T04:35:16.759029Z",
     "iopub.status.busy": "2024-12-03T04:35:16.758666Z",
     "iopub.status.idle": "2024-12-03T04:35:16.766905Z",
     "shell.execute_reply": "2024-12-03T04:35:16.765877Z"
    },
    "papermill": {
     "duration": 0.018252,
     "end_time": "2024-12-03T04:35:16.769157",
     "exception": false,
     "start_time": "2024-12-03T04:35:16.750905",
     "status": "completed"
    },
    "tags": []
   },
   "outputs": [
    {
     "data": {
      "text/plain": [
       "378    B\n",
       "562    M\n",
       "529    B\n",
       "20     B\n",
       "67     B\n",
       "      ..\n",
       "204    B\n",
       "336    B\n",
       "302    M\n",
       "25     M\n",
       "281    B\n",
       "Name: diagnosis, Length: 455, dtype: object"
      ]
     },
     "execution_count": 9,
     "metadata": {},
     "output_type": "execute_result"
    }
   ],
   "source": [
    "y_train"
   ]
  },
  {
   "cell_type": "markdown",
   "id": "4c7116e9",
   "metadata": {
    "papermill": {
     "duration": 0.006935,
     "end_time": "2024-12-03T04:35:16.782750",
     "exception": false,
     "start_time": "2024-12-03T04:35:16.775815",
     "status": "completed"
    },
    "tags": []
   },
   "source": [
    "# LabelEncoder() for target values"
   ]
  },
  {
   "cell_type": "code",
   "execution_count": 10,
   "id": "1e5355d6",
   "metadata": {
    "execution": {
     "iopub.execute_input": "2024-12-03T04:35:16.797531Z",
     "iopub.status.busy": "2024-12-03T04:35:16.796669Z",
     "iopub.status.idle": "2024-12-03T04:35:16.801126Z",
     "shell.execute_reply": "2024-12-03T04:35:16.800414Z"
    },
    "papermill": {
     "duration": 0.012902,
     "end_time": "2024-12-03T04:35:16.802837",
     "exception": false,
     "start_time": "2024-12-03T04:35:16.789935",
     "status": "completed"
    },
    "tags": []
   },
   "outputs": [],
   "source": [
    "encoder = LabelEncoder()\n",
    "y_train = encoder.fit_transform(y_train)\n",
    "y_test = encoder.transform(y_test)"
   ]
  },
  {
   "cell_type": "markdown",
   "id": "74c90b2b",
   "metadata": {
    "papermill": {
     "duration": 0.004191,
     "end_time": "2024-12-03T04:35:16.811420",
     "exception": false,
     "start_time": "2024-12-03T04:35:16.807229",
     "status": "completed"
    },
    "tags": []
   },
   "source": [
    "# Convert the Numpy array to pytorch Tensor"
   ]
  },
  {
   "cell_type": "code",
   "execution_count": 11,
   "id": "96a598fc",
   "metadata": {
    "execution": {
     "iopub.execute_input": "2024-12-03T04:35:16.821658Z",
     "iopub.status.busy": "2024-12-03T04:35:16.820954Z",
     "iopub.status.idle": "2024-12-03T04:35:16.831929Z",
     "shell.execute_reply": "2024-12-03T04:35:16.831137Z"
    },
    "papermill": {
     "duration": 0.0176,
     "end_time": "2024-12-03T04:35:16.833592",
     "exception": false,
     "start_time": "2024-12-03T04:35:16.815992",
     "status": "completed"
    },
    "tags": []
   },
   "outputs": [],
   "source": [
    "X_train_tensor = torch.from_numpy(X_train)\n",
    "X_test_tensor = torch.from_numpy(X_test)\n",
    "y_train_tensor = torch.from_numpy(y_train)\n",
    "y_test_tensor = torch.from_numpy(y_test)"
   ]
  },
  {
   "cell_type": "code",
   "execution_count": 12,
   "id": "0034a235",
   "metadata": {
    "execution": {
     "iopub.execute_input": "2024-12-03T04:35:16.843240Z",
     "iopub.status.busy": "2024-12-03T04:35:16.842998Z",
     "iopub.status.idle": "2024-12-03T04:35:16.847626Z",
     "shell.execute_reply": "2024-12-03T04:35:16.846840Z"
    },
    "papermill": {
     "duration": 0.011193,
     "end_time": "2024-12-03T04:35:16.849103",
     "exception": false,
     "start_time": "2024-12-03T04:35:16.837910",
     "status": "completed"
    },
    "tags": []
   },
   "outputs": [
    {
     "data": {
      "text/plain": [
       "torch.Size([455, 30])"
      ]
     },
     "execution_count": 12,
     "metadata": {},
     "output_type": "execute_result"
    }
   ],
   "source": [
    "X_train_tensor.shape"
   ]
  },
  {
   "cell_type": "code",
   "execution_count": 13,
   "id": "4a91d6c0",
   "metadata": {
    "execution": {
     "iopub.execute_input": "2024-12-03T04:35:16.863785Z",
     "iopub.status.busy": "2024-12-03T04:35:16.863018Z",
     "iopub.status.idle": "2024-12-03T04:35:16.869165Z",
     "shell.execute_reply": "2024-12-03T04:35:16.868232Z"
    },
    "papermill": {
     "duration": 0.01705,
     "end_time": "2024-12-03T04:35:16.871833",
     "exception": false,
     "start_time": "2024-12-03T04:35:16.854783",
     "status": "completed"
    },
    "tags": []
   },
   "outputs": [
    {
     "data": {
      "text/plain": [
       "torch.Size([455])"
      ]
     },
     "execution_count": 13,
     "metadata": {},
     "output_type": "execute_result"
    }
   ],
   "source": [
    "y_train_tensor.shape"
   ]
  },
  {
   "cell_type": "markdown",
   "id": "3001c4f5",
   "metadata": {
    "papermill": {
     "duration": 0.007759,
     "end_time": "2024-12-03T04:35:16.887850",
     "exception": false,
     "start_time": "2024-12-03T04:35:16.880091",
     "status": "completed"
    },
    "tags": []
   },
   "source": [
    "# define the simple NN model"
   ]
  },
  {
   "cell_type": "code",
   "execution_count": 14,
   "id": "65010730",
   "metadata": {
    "execution": {
     "iopub.execute_input": "2024-12-03T04:35:16.904917Z",
     "iopub.status.busy": "2024-12-03T04:35:16.904618Z",
     "iopub.status.idle": "2024-12-03T04:35:16.912528Z",
     "shell.execute_reply": "2024-12-03T04:35:16.911407Z"
    },
    "papermill": {
     "duration": 0.019264,
     "end_time": "2024-12-03T04:35:16.914746",
     "exception": false,
     "start_time": "2024-12-03T04:35:16.895482",
     "status": "completed"
    },
    "tags": []
   },
   "outputs": [],
   "source": [
    "class MySimpleNN():\n",
    "\n",
    "  def __init__(self, X):\n",
    "\n",
    "    self.weights = torch.rand(X.shape[1], 1, dtype=torch.float64, requires_grad=True)\n",
    "    self.bias = torch.zeros(1, dtype=torch.float64, requires_grad=True)\n",
    "\n",
    "  def forward(self, X):\n",
    "    z = torch.matmul(X, self.weights) + self.bias\n",
    "    y_pred = torch.sigmoid(z)\n",
    "    return y_pred\n",
    "\n",
    "  def loss_function(self, y_pred, y):\n",
    "    # Clamp predictions to avoid log(0)\n",
    "    epsilon = 1e-7\n",
    "    y_pred = torch.clamp(y_pred, epsilon, 1 - epsilon)\n",
    "\n",
    "    # Calculate loss\n",
    "    loss = -(y_train_tensor * torch.log(y_pred) + (1 - y_train_tensor) * torch.log(1 - y_pred)).mean()\n",
    "    return loss\n",
    "\n",
    "\n",
    "\n"
   ]
  },
  {
   "cell_type": "markdown",
   "id": "d13c8e8c",
   "metadata": {
    "papermill": {
     "duration": 0.008372,
     "end_time": "2024-12-03T04:35:16.931969",
     "exception": false,
     "start_time": "2024-12-03T04:35:16.923597",
     "status": "completed"
    },
    "tags": []
   },
   "source": [
    "# important Parameter"
   ]
  },
  {
   "cell_type": "code",
   "execution_count": 15,
   "id": "1c42aa6f",
   "metadata": {
    "execution": {
     "iopub.execute_input": "2024-12-03T04:35:16.948196Z",
     "iopub.status.busy": "2024-12-03T04:35:16.947618Z",
     "iopub.status.idle": "2024-12-03T04:35:16.951761Z",
     "shell.execute_reply": "2024-12-03T04:35:16.950813Z"
    },
    "papermill": {
     "duration": 0.011902,
     "end_time": "2024-12-03T04:35:16.953605",
     "exception": false,
     "start_time": "2024-12-03T04:35:16.941703",
     "status": "completed"
    },
    "tags": []
   },
   "outputs": [],
   "source": [
    "learning_rate = 0.1\n",
    "epochs = 25"
   ]
  },
  {
   "cell_type": "markdown",
   "id": "fc2c7323",
   "metadata": {
    "papermill": {
     "duration": 0.005976,
     "end_time": "2024-12-03T04:35:16.968091",
     "exception": false,
     "start_time": "2024-12-03T04:35:16.962115",
     "status": "completed"
    },
    "tags": []
   },
   "source": [
    "# Training Pipeline"
   ]
  },
  {
   "cell_type": "code",
   "execution_count": 16,
   "id": "3c94f728",
   "metadata": {
    "execution": {
     "iopub.execute_input": "2024-12-03T04:35:16.978767Z",
     "iopub.status.busy": "2024-12-03T04:35:16.978134Z",
     "iopub.status.idle": "2024-12-03T04:35:17.245753Z",
     "shell.execute_reply": "2024-12-03T04:35:17.244778Z"
    },
    "papermill": {
     "duration": 0.274901,
     "end_time": "2024-12-03T04:35:17.247690",
     "exception": false,
     "start_time": "2024-12-03T04:35:16.972789",
     "status": "completed"
    },
    "tags": []
   },
   "outputs": [
    {
     "name": "stdout",
     "output_type": "stream",
     "text": [
      "Epoch: 1, Loss: 4.3161018697805895\n",
      "Epoch: 2, Loss: 4.2173960770977335\n",
      "Epoch: 3, Loss: 4.109914863946265\n",
      "Epoch: 4, Loss: 3.9998294940533663\n",
      "Epoch: 5, Loss: 3.886809021570279\n",
      "Epoch: 6, Loss: 3.767931667994132\n",
      "Epoch: 7, Loss: 3.6412460658393933\n",
      "Epoch: 8, Loss: 3.506249160529297\n",
      "Epoch: 9, Loss: 3.366466716759647\n",
      "Epoch: 10, Loss: 3.2225727745244486\n",
      "Epoch: 11, Loss: 3.0760501281077466\n",
      "Epoch: 12, Loss: 2.923557383102369\n",
      "Epoch: 13, Loss: 2.7647839246684707\n",
      "Epoch: 14, Loss: 2.602332128939216\n",
      "Epoch: 15, Loss: 2.434340289730419\n",
      "Epoch: 16, Loss: 2.265041183069317\n",
      "Epoch: 17, Loss: 2.093075412883894\n",
      "Epoch: 18, Loss: 1.9223736025172746\n",
      "Epoch: 19, Loss: 1.7568263804729378\n",
      "Epoch: 20, Loss: 1.5994734180605914\n",
      "Epoch: 21, Loss: 1.4513514572264863\n",
      "Epoch: 22, Loss: 1.3174959138951878\n",
      "Epoch: 23, Loss: 1.199699531886551\n",
      "Epoch: 24, Loss: 1.099356763009657\n",
      "Epoch: 25, Loss: 1.0170960447260975\n"
     ]
    }
   ],
   "source": [
    "\n",
    "model = MySimpleNN(X_train_tensor)\n",
    "\n",
    "# define loop\n",
    "for epoch in range(epochs):\n",
    "\n",
    "  # forward pass\n",
    "  y_pred = model.forward(X_train_tensor)\n",
    "\n",
    "  # loss calculate\n",
    "  loss = model.loss_function(y_pred, y_train_tensor)\n",
    "\n",
    "  # backward pass\n",
    "  loss.backward()\n",
    "\n",
    "  # parameters update\n",
    "  with torch.no_grad():\n",
    "    model.weights -= learning_rate * model.weights.grad\n",
    "    model.bias -= learning_rate * model.bias.grad\n",
    "\n",
    "  # zero gradients\n",
    "  model.weights.grad.zero_()\n",
    "  model.bias.grad.zero_()\n",
    "\n",
    "  # print loss in each epoch\n",
    "  print(f'Epoch: {epoch + 1}, Loss: {loss.item()}')"
   ]
  },
  {
   "cell_type": "code",
   "execution_count": 17,
   "id": "cc8dc362",
   "metadata": {
    "execution": {
     "iopub.execute_input": "2024-12-03T04:35:17.258537Z",
     "iopub.status.busy": "2024-12-03T04:35:17.258242Z",
     "iopub.status.idle": "2024-12-03T04:35:17.274738Z",
     "shell.execute_reply": "2024-12-03T04:35:17.273899Z"
    },
    "papermill": {
     "duration": 0.023827,
     "end_time": "2024-12-03T04:35:17.276416",
     "exception": false,
     "start_time": "2024-12-03T04:35:17.252589",
     "status": "completed"
    },
    "tags": []
   },
   "outputs": [
    {
     "data": {
      "text/plain": [
       "tensor([-0.0763], dtype=torch.float64, requires_grad=True)"
      ]
     },
     "execution_count": 17,
     "metadata": {},
     "output_type": "execute_result"
    }
   ],
   "source": [
    "model.bias"
   ]
  },
  {
   "cell_type": "markdown",
   "id": "38a113df",
   "metadata": {
    "papermill": {
     "duration": 0.005129,
     "end_time": "2024-12-03T04:35:17.286262",
     "exception": false,
     "start_time": "2024-12-03T04:35:17.281133",
     "status": "completed"
    },
    "tags": []
   },
   "source": [
    "# model evaluation"
   ]
  },
  {
   "cell_type": "code",
   "execution_count": 18,
   "id": "af81f03d",
   "metadata": {
    "execution": {
     "iopub.execute_input": "2024-12-03T04:35:17.296915Z",
     "iopub.status.busy": "2024-12-03T04:35:17.296659Z",
     "iopub.status.idle": "2024-12-03T04:35:17.302564Z",
     "shell.execute_reply": "2024-12-03T04:35:17.301662Z"
    },
    "papermill": {
     "duration": 0.013087,
     "end_time": "2024-12-03T04:35:17.304126",
     "exception": false,
     "start_time": "2024-12-03T04:35:17.291039",
     "status": "completed"
    },
    "tags": []
   },
   "outputs": [
    {
     "name": "stdout",
     "output_type": "stream",
     "text": [
      "Accuracy: 0.5991074442863464\n"
     ]
    }
   ],
   "source": [
    "\n",
    "with torch.no_grad():\n",
    "  y_pred = model.forward(X_test_tensor)\n",
    "  y_pred = (y_pred > 0.9).float()\n",
    "  accuracy = (y_pred == y_test_tensor).float().mean()\n",
    "  print(f'Accuracy: {accuracy.item()}')\n"
   ]
  }
 ],
 "metadata": {
  "kaggle": {
   "accelerator": "nvidiaTeslaT4",
   "dataSources": [],
   "dockerImageVersionId": 30805,
   "isGpuEnabled": true,
   "isInternetEnabled": true,
   "language": "python",
   "sourceType": "notebook"
  },
  "kernelspec": {
   "display_name": "Python 3",
   "language": "python",
   "name": "python3"
  },
  "language_info": {
   "codemirror_mode": {
    "name": "ipython",
    "version": 3
   },
   "file_extension": ".py",
   "mimetype": "text/x-python",
   "name": "python",
   "nbconvert_exporter": "python",
   "pygments_lexer": "ipython3",
   "version": "3.10.14"
  },
  "papermill": {
   "default_parameters": {},
   "duration": 8.849086,
   "end_time": "2024-12-03T04:35:18.329240",
   "environment_variables": {},
   "exception": null,
   "input_path": "__notebook__.ipynb",
   "output_path": "__notebook__.ipynb",
   "parameters": {},
   "start_time": "2024-12-03T04:35:09.480154",
   "version": "2.6.0"
  }
 },
 "nbformat": 4,
 "nbformat_minor": 5
}
